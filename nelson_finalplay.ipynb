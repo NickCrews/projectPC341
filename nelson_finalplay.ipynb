{
 "cells": [
  {
   "cell_type": "markdown",
   "metadata": {},
   "source": [
    "Assuming we already have SAT/AP scores and the high schools distances in the file, we would only look for high schools which are in California and we want to filter those schools out first. "
   ]
  },
  {
   "cell_type": "code",
   "execution_count": 1,
   "metadata": {},
   "outputs": [],
   "source": [
    "import pandas as pd\n",
    "%matplotlib inline\n",
    "import pylab as plt\n",
    "import numpy as np\n",
    "import scipy as sc\n",
    "from scipy import stats"
   ]
  },
  {
   "cell_type": "code",
   "execution_count": 2,
   "metadata": {
    "scrolled": true
   },
   "outputs": [
    {
     "data": {
      "text/html": [
       "<div>\n",
       "<style scoped>\n",
       "    .dataframe tbody tr th:only-of-type {\n",
       "        vertical-align: middle;\n",
       "    }\n",
       "\n",
       "    .dataframe tbody tr th {\n",
       "        vertical-align: top;\n",
       "    }\n",
       "\n",
       "    .dataframe thead th {\n",
       "        text-align: right;\n",
       "    }\n",
       "</style>\n",
       "<table border=\"1\" class=\"dataframe\">\n",
       "  <thead>\n",
       "    <tr style=\"text-align: right;\">\n",
       "      <th></th>\n",
       "      <th>campus</th>\n",
       "      <th>year</th>\n",
       "      <th>school</th>\n",
       "      <th>school_num</th>\n",
       "      <th>city</th>\n",
       "      <th>county</th>\n",
       "      <th>state</th>\n",
       "      <th>country</th>\n",
       "      <th>region</th>\n",
       "      <th>ethnicity</th>\n",
       "      <th>app_num</th>\n",
       "      <th>adm_num</th>\n",
       "      <th>enr_num</th>\n",
       "      <th>app_gpa</th>\n",
       "      <th>adm_gpa</th>\n",
       "      <th>enr_gpa</th>\n",
       "      <th>distance</th>\n",
       "    </tr>\n",
       "  </thead>\n",
       "  <tbody>\n",
       "    <tr>\n",
       "      <th>0</th>\n",
       "      <td>Berkeley</td>\n",
       "      <td>1994.0</td>\n",
       "      <td>ABRAHAM LINCOLN HIGH SCHOOL</td>\n",
       "      <td>51520.0</td>\n",
       "      <td>Los Angeles</td>\n",
       "      <td>Los Angeles</td>\n",
       "      <td>California</td>\n",
       "      <td>USA</td>\n",
       "      <td>Los Angeles</td>\n",
       "      <td>All</td>\n",
       "      <td>14.0</td>\n",
       "      <td>NaN</td>\n",
       "      <td>NaN</td>\n",
       "      <td>3.620000</td>\n",
       "      <td>NaN</td>\n",
       "      <td>NaN</td>\n",
       "      <td>601648.0</td>\n",
       "    </tr>\n",
       "    <tr>\n",
       "      <th>1</th>\n",
       "      <td>Berkeley</td>\n",
       "      <td>1994.0</td>\n",
       "      <td>ABRAHAM LINCOLN HIGH SCHOOL</td>\n",
       "      <td>51520.0</td>\n",
       "      <td>Los Angeles</td>\n",
       "      <td>Los Angeles</td>\n",
       "      <td>California</td>\n",
       "      <td>USA</td>\n",
       "      <td>Los Angeles</td>\n",
       "      <td>Asian</td>\n",
       "      <td>8.0</td>\n",
       "      <td>NaN</td>\n",
       "      <td>NaN</td>\n",
       "      <td>3.620000</td>\n",
       "      <td>NaN</td>\n",
       "      <td>NaN</td>\n",
       "      <td>601648.0</td>\n",
       "    </tr>\n",
       "    <tr>\n",
       "      <th>2</th>\n",
       "      <td>Berkeley</td>\n",
       "      <td>1994.0</td>\n",
       "      <td>ABRAHAM LINCOLN HIGH SCHOOL</td>\n",
       "      <td>51520.0</td>\n",
       "      <td>Los Angeles</td>\n",
       "      <td>Los Angeles</td>\n",
       "      <td>California</td>\n",
       "      <td>USA</td>\n",
       "      <td>Los Angeles</td>\n",
       "      <td>Hispanic/ Latino</td>\n",
       "      <td>5.0</td>\n",
       "      <td>NaN</td>\n",
       "      <td>NaN</td>\n",
       "      <td>3.620000</td>\n",
       "      <td>NaN</td>\n",
       "      <td>NaN</td>\n",
       "      <td>601648.0</td>\n",
       "    </tr>\n",
       "    <tr>\n",
       "      <th>3</th>\n",
       "      <td>Berkeley</td>\n",
       "      <td>1994.0</td>\n",
       "      <td>ABRAHAM LINCOLN HIGH SCHOOL</td>\n",
       "      <td>52910.0</td>\n",
       "      <td>San Francisco</td>\n",
       "      <td>San Francisco</td>\n",
       "      <td>California</td>\n",
       "      <td>USA</td>\n",
       "      <td>San Francisco</td>\n",
       "      <td>All</td>\n",
       "      <td>58.0</td>\n",
       "      <td>8.0</td>\n",
       "      <td>7.0</td>\n",
       "      <td>3.682931</td>\n",
       "      <td>4.12125</td>\n",
       "      <td>4.088571</td>\n",
       "      <td>33037.0</td>\n",
       "    </tr>\n",
       "    <tr>\n",
       "      <th>4</th>\n",
       "      <td>Berkeley</td>\n",
       "      <td>1994.0</td>\n",
       "      <td>ABRAHAM LINCOLN HIGH SCHOOL</td>\n",
       "      <td>52910.0</td>\n",
       "      <td>San Francisco</td>\n",
       "      <td>San Francisco</td>\n",
       "      <td>California</td>\n",
       "      <td>USA</td>\n",
       "      <td>San Francisco</td>\n",
       "      <td>Asian</td>\n",
       "      <td>50.0</td>\n",
       "      <td>8.0</td>\n",
       "      <td>7.0</td>\n",
       "      <td>3.682931</td>\n",
       "      <td>4.12125</td>\n",
       "      <td>4.088571</td>\n",
       "      <td>33037.0</td>\n",
       "    </tr>\n",
       "  </tbody>\n",
       "</table>\n",
       "</div>"
      ],
      "text/plain": [
       "     campus    year                       school  school_num           city  \\\n",
       "0  Berkeley  1994.0  ABRAHAM LINCOLN HIGH SCHOOL     51520.0    Los Angeles   \n",
       "1  Berkeley  1994.0  ABRAHAM LINCOLN HIGH SCHOOL     51520.0    Los Angeles   \n",
       "2  Berkeley  1994.0  ABRAHAM LINCOLN HIGH SCHOOL     51520.0    Los Angeles   \n",
       "3  Berkeley  1994.0  ABRAHAM LINCOLN HIGH SCHOOL     52910.0  San Francisco   \n",
       "4  Berkeley  1994.0  ABRAHAM LINCOLN HIGH SCHOOL     52910.0  San Francisco   \n",
       "\n",
       "          county       state country         region         ethnicity  \\\n",
       "0    Los Angeles  California     USA    Los Angeles               All   \n",
       "1    Los Angeles  California     USA    Los Angeles             Asian   \n",
       "2    Los Angeles  California     USA    Los Angeles  Hispanic/ Latino   \n",
       "3  San Francisco  California     USA  San Francisco               All   \n",
       "4  San Francisco  California     USA  San Francisco             Asian   \n",
       "\n",
       "   app_num  adm_num  enr_num   app_gpa  adm_gpa   enr_gpa  distance  \n",
       "0     14.0      NaN      NaN  3.620000      NaN       NaN  601648.0  \n",
       "1      8.0      NaN      NaN  3.620000      NaN       NaN  601648.0  \n",
       "2      5.0      NaN      NaN  3.620000      NaN       NaN  601648.0  \n",
       "3     58.0      8.0      7.0  3.682931  4.12125  4.088571   33037.0  \n",
       "4     50.0      8.0      7.0  3.682931  4.12125  4.088571   33037.0  "
      ]
     },
     "execution_count": 2,
     "metadata": {},
     "output_type": "execute_result"
    }
   ],
   "source": [
    "data = pd.read_csv('data/distances.csv')\n",
    "data.head()"
   ]
  },
  {
   "cell_type": "markdown",
   "metadata": {},
   "source": [
    "check the total number of high schools in our file "
   ]
  },
  {
   "cell_type": "code",
   "execution_count": 3,
   "metadata": {},
   "outputs": [
    {
     "data": {
      "text/plain": [
       "2843"
      ]
     },
     "execution_count": 3,
     "metadata": {},
     "output_type": "execute_result"
    }
   ],
   "source": [
    "tot_high = len(data['school'].unique())\n",
    "tot_high"
   ]
  },
  {
   "cell_type": "code",
   "execution_count": 4,
   "metadata": {},
   "outputs": [
    {
     "data": {
      "text/html": [
       "<div>\n",
       "<style scoped>\n",
       "    .dataframe tbody tr th:only-of-type {\n",
       "        vertical-align: middle;\n",
       "    }\n",
       "\n",
       "    .dataframe tbody tr th {\n",
       "        vertical-align: top;\n",
       "    }\n",
       "\n",
       "    .dataframe thead th {\n",
       "        text-align: right;\n",
       "    }\n",
       "</style>\n",
       "<table border=\"1\" class=\"dataframe\">\n",
       "  <thead>\n",
       "    <tr style=\"text-align: right;\">\n",
       "      <th></th>\n",
       "      <th>campus</th>\n",
       "      <th>year</th>\n",
       "      <th>school</th>\n",
       "      <th>school_num</th>\n",
       "      <th>city</th>\n",
       "      <th>county</th>\n",
       "      <th>state</th>\n",
       "      <th>country</th>\n",
       "      <th>region</th>\n",
       "      <th>ethnicity</th>\n",
       "      <th>app_num</th>\n",
       "      <th>adm_num</th>\n",
       "      <th>enr_num</th>\n",
       "      <th>app_gpa</th>\n",
       "      <th>adm_gpa</th>\n",
       "      <th>enr_gpa</th>\n",
       "      <th>distance</th>\n",
       "    </tr>\n",
       "  </thead>\n",
       "  <tbody>\n",
       "    <tr>\n",
       "      <th>0</th>\n",
       "      <td>Berkeley</td>\n",
       "      <td>1994.0</td>\n",
       "      <td>ABRAHAM LINCOLN HIGH SCHOOL</td>\n",
       "      <td>51520.0</td>\n",
       "      <td>Los Angeles</td>\n",
       "      <td>Los Angeles</td>\n",
       "      <td>California</td>\n",
       "      <td>USA</td>\n",
       "      <td>Los Angeles</td>\n",
       "      <td>All</td>\n",
       "      <td>14.0</td>\n",
       "      <td>NaN</td>\n",
       "      <td>NaN</td>\n",
       "      <td>3.620000</td>\n",
       "      <td>NaN</td>\n",
       "      <td>NaN</td>\n",
       "      <td>601648.0</td>\n",
       "    </tr>\n",
       "    <tr>\n",
       "      <th>1</th>\n",
       "      <td>Berkeley</td>\n",
       "      <td>1994.0</td>\n",
       "      <td>ABRAHAM LINCOLN HIGH SCHOOL</td>\n",
       "      <td>51520.0</td>\n",
       "      <td>Los Angeles</td>\n",
       "      <td>Los Angeles</td>\n",
       "      <td>California</td>\n",
       "      <td>USA</td>\n",
       "      <td>Los Angeles</td>\n",
       "      <td>Asian</td>\n",
       "      <td>8.0</td>\n",
       "      <td>NaN</td>\n",
       "      <td>NaN</td>\n",
       "      <td>3.620000</td>\n",
       "      <td>NaN</td>\n",
       "      <td>NaN</td>\n",
       "      <td>601648.0</td>\n",
       "    </tr>\n",
       "    <tr>\n",
       "      <th>2</th>\n",
       "      <td>Berkeley</td>\n",
       "      <td>1994.0</td>\n",
       "      <td>ABRAHAM LINCOLN HIGH SCHOOL</td>\n",
       "      <td>51520.0</td>\n",
       "      <td>Los Angeles</td>\n",
       "      <td>Los Angeles</td>\n",
       "      <td>California</td>\n",
       "      <td>USA</td>\n",
       "      <td>Los Angeles</td>\n",
       "      <td>Hispanic/ Latino</td>\n",
       "      <td>5.0</td>\n",
       "      <td>NaN</td>\n",
       "      <td>NaN</td>\n",
       "      <td>3.620000</td>\n",
       "      <td>NaN</td>\n",
       "      <td>NaN</td>\n",
       "      <td>601648.0</td>\n",
       "    </tr>\n",
       "    <tr>\n",
       "      <th>3</th>\n",
       "      <td>Berkeley</td>\n",
       "      <td>1994.0</td>\n",
       "      <td>ABRAHAM LINCOLN HIGH SCHOOL</td>\n",
       "      <td>52910.0</td>\n",
       "      <td>San Francisco</td>\n",
       "      <td>San Francisco</td>\n",
       "      <td>California</td>\n",
       "      <td>USA</td>\n",
       "      <td>San Francisco</td>\n",
       "      <td>All</td>\n",
       "      <td>58.0</td>\n",
       "      <td>8.0</td>\n",
       "      <td>7.0</td>\n",
       "      <td>3.682931</td>\n",
       "      <td>4.12125</td>\n",
       "      <td>4.088571</td>\n",
       "      <td>33037.0</td>\n",
       "    </tr>\n",
       "    <tr>\n",
       "      <th>4</th>\n",
       "      <td>Berkeley</td>\n",
       "      <td>1994.0</td>\n",
       "      <td>ABRAHAM LINCOLN HIGH SCHOOL</td>\n",
       "      <td>52910.0</td>\n",
       "      <td>San Francisco</td>\n",
       "      <td>San Francisco</td>\n",
       "      <td>California</td>\n",
       "      <td>USA</td>\n",
       "      <td>San Francisco</td>\n",
       "      <td>Asian</td>\n",
       "      <td>50.0</td>\n",
       "      <td>8.0</td>\n",
       "      <td>7.0</td>\n",
       "      <td>3.682931</td>\n",
       "      <td>4.12125</td>\n",
       "      <td>4.088571</td>\n",
       "      <td>33037.0</td>\n",
       "    </tr>\n",
       "  </tbody>\n",
       "</table>\n",
       "</div>"
      ],
      "text/plain": [
       "     campus    year                       school  school_num           city  \\\n",
       "0  Berkeley  1994.0  ABRAHAM LINCOLN HIGH SCHOOL     51520.0    Los Angeles   \n",
       "1  Berkeley  1994.0  ABRAHAM LINCOLN HIGH SCHOOL     51520.0    Los Angeles   \n",
       "2  Berkeley  1994.0  ABRAHAM LINCOLN HIGH SCHOOL     51520.0    Los Angeles   \n",
       "3  Berkeley  1994.0  ABRAHAM LINCOLN HIGH SCHOOL     52910.0  San Francisco   \n",
       "4  Berkeley  1994.0  ABRAHAM LINCOLN HIGH SCHOOL     52910.0  San Francisco   \n",
       "\n",
       "          county       state country         region         ethnicity  \\\n",
       "0    Los Angeles  California     USA    Los Angeles               All   \n",
       "1    Los Angeles  California     USA    Los Angeles             Asian   \n",
       "2    Los Angeles  California     USA    Los Angeles  Hispanic/ Latino   \n",
       "3  San Francisco  California     USA  San Francisco               All   \n",
       "4  San Francisco  California     USA  San Francisco             Asian   \n",
       "\n",
       "   app_num  adm_num  enr_num   app_gpa  adm_gpa   enr_gpa  distance  \n",
       "0     14.0      NaN      NaN  3.620000      NaN       NaN  601648.0  \n",
       "1      8.0      NaN      NaN  3.620000      NaN       NaN  601648.0  \n",
       "2      5.0      NaN      NaN  3.620000      NaN       NaN  601648.0  \n",
       "3     58.0      8.0      7.0  3.682931  4.12125  4.088571   33037.0  \n",
       "4     50.0      8.0      7.0  3.682931  4.12125  4.088571   33037.0  "
      ]
     },
     "execution_count": 4,
     "metadata": {},
     "output_type": "execute_result"
    }
   ],
   "source": [
    "data[data['state']=='California']\n",
    "data.head()"
   ]
  },
  {
   "cell_type": "markdown",
   "metadata": {},
   "source": [
    "check the total number of high schools in california "
   ]
  },
  {
   "cell_type": "code",
   "execution_count": 5,
   "metadata": {},
   "outputs": [
    {
     "data": {
      "text/plain": [
       "860"
      ]
     },
     "execution_count": 5,
     "metadata": {},
     "output_type": "execute_result"
    }
   ],
   "source": [
    "num_cali_high = len(data[data['state']=='California']['school'].unique())\n",
    "num_cali_high"
   ]
  },
  {
   "cell_type": "code",
   "execution_count": 6,
   "metadata": {},
   "outputs": [
    {
     "name": "stderr",
     "output_type": "stream",
     "text": [
      "/Users/Nelson/anaconda3/lib/python3.6/site-packages/ipykernel_launcher.py:2: SettingWithCopyWarning: \n",
      "A value is trying to be set on a copy of a slice from a DataFrame.\n",
      "Try using .loc[row_indexer,col_indexer] = value instead\n",
      "\n",
      "See the caveats in the documentation: http://pandas.pydata.org/pandas-docs/stable/indexing.html#indexing-view-versus-copy\n",
      "  \n"
     ]
    },
    {
     "data": {
      "text/html": [
       "<div>\n",
       "<style scoped>\n",
       "    .dataframe tbody tr th:only-of-type {\n",
       "        vertical-align: middle;\n",
       "    }\n",
       "\n",
       "    .dataframe tbody tr th {\n",
       "        vertical-align: top;\n",
       "    }\n",
       "\n",
       "    .dataframe thead th {\n",
       "        text-align: right;\n",
       "    }\n",
       "</style>\n",
       "<table border=\"1\" class=\"dataframe\">\n",
       "  <thead>\n",
       "    <tr style=\"text-align: right;\">\n",
       "      <th></th>\n",
       "      <th>year</th>\n",
       "      <th>school_num</th>\n",
       "      <th>app_num</th>\n",
       "      <th>adm_num</th>\n",
       "      <th>enr_num</th>\n",
       "      <th>app_gpa</th>\n",
       "      <th>adm_gpa</th>\n",
       "      <th>enr_gpa</th>\n",
       "      <th>distance</th>\n",
       "      <th>yield</th>\n",
       "    </tr>\n",
       "  </thead>\n",
       "  <tbody>\n",
       "    <tr>\n",
       "      <th>count</th>\n",
       "      <td>278029.000000</td>\n",
       "      <td>278029.000000</td>\n",
       "      <td>278029.000000</td>\n",
       "      <td>208973.000000</td>\n",
       "      <td>83776.000000</td>\n",
       "      <td>278029.000000</td>\n",
       "      <td>208973.000000</td>\n",
       "      <td>83776.000000</td>\n",
       "      <td>2.332610e+05</td>\n",
       "      <td>83776.000000</td>\n",
       "    </tr>\n",
       "    <tr>\n",
       "      <th>mean</th>\n",
       "      <td>2007.508990</td>\n",
       "      <td>52090.542490</td>\n",
       "      <td>24.390308</td>\n",
       "      <td>16.130845</td>\n",
       "      <td>12.035511</td>\n",
       "      <td>3.669844</td>\n",
       "      <td>3.884817</td>\n",
       "      <td>3.831920</td>\n",
       "      <td>3.345409e+05</td>\n",
       "      <td>0.482094</td>\n",
       "    </tr>\n",
       "    <tr>\n",
       "      <th>std</th>\n",
       "      <td>6.651732</td>\n",
       "      <td>17225.523927</td>\n",
       "      <td>31.352837</td>\n",
       "      <td>21.616506</td>\n",
       "      <td>15.655316</td>\n",
       "      <td>0.194324</td>\n",
       "      <td>0.227329</td>\n",
       "      <td>0.226885</td>\n",
       "      <td>2.617145e+05</td>\n",
       "      <td>0.200331</td>\n",
       "    </tr>\n",
       "    <tr>\n",
       "      <th>min</th>\n",
       "      <td>1994.000000</td>\n",
       "      <td>50003.000000</td>\n",
       "      <td>5.000000</td>\n",
       "      <td>3.000000</td>\n",
       "      <td>3.000000</td>\n",
       "      <td>2.468333</td>\n",
       "      <td>2.798462</td>\n",
       "      <td>2.782000</td>\n",
       "      <td>6.620000e+02</td>\n",
       "      <td>0.044776</td>\n",
       "    </tr>\n",
       "    <tr>\n",
       "      <th>25%</th>\n",
       "      <td>2002.000000</td>\n",
       "      <td>50735.000000</td>\n",
       "      <td>8.000000</td>\n",
       "      <td>5.000000</td>\n",
       "      <td>5.000000</td>\n",
       "      <td>3.545556</td>\n",
       "      <td>3.720667</td>\n",
       "      <td>3.690000</td>\n",
       "      <td>9.825300e+04</td>\n",
       "      <td>0.333333</td>\n",
       "    </tr>\n",
       "    <tr>\n",
       "      <th>50%</th>\n",
       "      <td>2008.000000</td>\n",
       "      <td>51395.000000</td>\n",
       "      <td>13.000000</td>\n",
       "      <td>9.000000</td>\n",
       "      <td>7.000000</td>\n",
       "      <td>3.683235</td>\n",
       "      <td>3.892222</td>\n",
       "      <td>3.842462</td>\n",
       "      <td>2.207980e+05</td>\n",
       "      <td>0.473684</td>\n",
       "    </tr>\n",
       "    <tr>\n",
       "      <th>75%</th>\n",
       "      <td>2013.000000</td>\n",
       "      <td>52774.000000</td>\n",
       "      <td>27.000000</td>\n",
       "      <td>18.000000</td>\n",
       "      <td>13.000000</td>\n",
       "      <td>3.807857</td>\n",
       "      <td>4.068571</td>\n",
       "      <td>3.994419</td>\n",
       "      <td>6.004540e+05</td>\n",
       "      <td>0.615385</td>\n",
       "    </tr>\n",
       "    <tr>\n",
       "      <th>max</th>\n",
       "      <td>2017.000000</td>\n",
       "      <td>998463.000000</td>\n",
       "      <td>544.000000</td>\n",
       "      <td>472.000000</td>\n",
       "      <td>295.000000</td>\n",
       "      <td>4.356667</td>\n",
       "      <td>4.495000</td>\n",
       "      <td>4.430000</td>\n",
       "      <td>1.348288e+06</td>\n",
       "      <td>1.000000</td>\n",
       "    </tr>\n",
       "  </tbody>\n",
       "</table>\n",
       "</div>"
      ],
      "text/plain": [
       "                year     school_num        app_num        adm_num  \\\n",
       "count  278029.000000  278029.000000  278029.000000  208973.000000   \n",
       "mean     2007.508990   52090.542490      24.390308      16.130845   \n",
       "std         6.651732   17225.523927      31.352837      21.616506   \n",
       "min      1994.000000   50003.000000       5.000000       3.000000   \n",
       "25%      2002.000000   50735.000000       8.000000       5.000000   \n",
       "50%      2008.000000   51395.000000      13.000000       9.000000   \n",
       "75%      2013.000000   52774.000000      27.000000      18.000000   \n",
       "max      2017.000000  998463.000000     544.000000     472.000000   \n",
       "\n",
       "            enr_num        app_gpa        adm_gpa       enr_gpa      distance  \\\n",
       "count  83776.000000  278029.000000  208973.000000  83776.000000  2.332610e+05   \n",
       "mean      12.035511       3.669844       3.884817      3.831920  3.345409e+05   \n",
       "std       15.655316       0.194324       0.227329      0.226885  2.617145e+05   \n",
       "min        3.000000       2.468333       2.798462      2.782000  6.620000e+02   \n",
       "25%        5.000000       3.545556       3.720667      3.690000  9.825300e+04   \n",
       "50%        7.000000       3.683235       3.892222      3.842462  2.207980e+05   \n",
       "75%       13.000000       3.807857       4.068571      3.994419  6.004540e+05   \n",
       "max      295.000000       4.356667       4.495000      4.430000  1.348288e+06   \n",
       "\n",
       "              yield  \n",
       "count  83776.000000  \n",
       "mean       0.482094  \n",
       "std        0.200331  \n",
       "min        0.044776  \n",
       "25%        0.333333  \n",
       "50%        0.473684  \n",
       "75%        0.615385  \n",
       "max        1.000000  "
      ]
     },
     "execution_count": 6,
     "metadata": {},
     "output_type": "execute_result"
    }
   ],
   "source": [
    "data_cali_high = data[data['state']=='California']\n",
    "data_cali_high['yield'] = data_cali_high['enr_num'] / data_cali_high['adm_num']\n",
    "data_cali_high.describe()"
   ]
  },
  {
   "cell_type": "markdown",
   "metadata": {},
   "source": [
    "check how many NaN's are there"
   ]
  },
  {
   "cell_type": "code",
   "execution_count": 7,
   "metadata": {},
   "outputs": [
    {
     "data": {
      "text/plain": [
       "campus             0\n",
       "year               0\n",
       "school             0\n",
       "school_num         0\n",
       "city               0\n",
       "county             0\n",
       "state              0\n",
       "country            0\n",
       "region             0\n",
       "ethnicity          0\n",
       "app_num            0\n",
       "adm_num        69056\n",
       "enr_num       194253\n",
       "app_gpa            0\n",
       "adm_gpa        69056\n",
       "enr_gpa       194253\n",
       "distance       44768\n",
       "yield         194253\n",
       "dtype: int64"
      ]
     },
     "execution_count": 7,
     "metadata": {},
     "output_type": "execute_result"
    }
   ],
   "source": [
    "count_nan = len(data_cali_high) - data_cali_high.count()\n",
    "count_nan"
   ]
  },
  {
   "cell_type": "markdown",
   "metadata": {},
   "source": [
    "filter out the NaN data"
   ]
  },
  {
   "cell_type": "code",
   "execution_count": 8,
   "metadata": {},
   "outputs": [],
   "source": [
    "data_cali_high = data_cali_high.dropna()\n",
    "#data_cali_high = data_cali_high[pd.notnull(data_cali_high[['app_num', 'adm_num', 'app_gpa', 'adm_gpa', 'year']])]"
   ]
  },
  {
   "cell_type": "markdown",
   "metadata": {},
   "source": [
    "X is to be fixed, it contains the features we want to include"
   ]
  },
  {
   "cell_type": "code",
   "execution_count": 9,
   "metadata": {},
   "outputs": [],
   "source": [
    "X = data_cali_high[['app_num', 'adm_num', 'app_gpa', 'adm_gpa', 'year', 'distance']]\n",
    "y = data_cali_high['yield']"
   ]
  },
  {
   "cell_type": "code",
   "execution_count": 10,
   "metadata": {},
   "outputs": [],
   "source": [
    "def z_score(x):\n",
    "    return (x - x.mean()) / x.std()"
   ]
  },
  {
   "cell_type": "code",
   "execution_count": 1,
   "metadata": {},
   "outputs": [
    {
     "ename": "NameError",
     "evalue": "name 'X' is not defined",
     "output_type": "error",
     "traceback": [
      "\u001b[0;31m---------------------------------------------------------------------------\u001b[0m",
      "\u001b[0;31mNameError\u001b[0m                                 Traceback (most recent call last)",
      "\u001b[0;32m<ipython-input-1-7b59c8cd6d4d>\u001b[0m in \u001b[0;36m<module>\u001b[0;34m()\u001b[0m\n\u001b[1;32m      1\u001b[0m \u001b[0;32mfrom\u001b[0m \u001b[0msklearn\u001b[0m\u001b[0;34m.\u001b[0m\u001b[0mmodel_selection\u001b[0m \u001b[0;32mimport\u001b[0m \u001b[0mtrain_test_split\u001b[0m\u001b[0;34m\u001b[0m\u001b[0m\n\u001b[0;32m----> 2\u001b[0;31m \u001b[0mX_train\u001b[0m\u001b[0;34m,\u001b[0m \u001b[0mX_test\u001b[0m\u001b[0;34m,\u001b[0m \u001b[0my_train\u001b[0m\u001b[0;34m,\u001b[0m \u001b[0my_test\u001b[0m \u001b[0;34m=\u001b[0m \u001b[0mtrain_test_split\u001b[0m\u001b[0;34m(\u001b[0m\u001b[0mX\u001b[0m\u001b[0;34m,\u001b[0m \u001b[0my\u001b[0m\u001b[0;34m,\u001b[0m \u001b[0mtest_size\u001b[0m \u001b[0;34m=\u001b[0m \u001b[0;36m0.3\u001b[0m\u001b[0;34m,\u001b[0m \u001b[0mrandom_state\u001b[0m \u001b[0;34m=\u001b[0m \u001b[0;36m0\u001b[0m\u001b[0;34m)\u001b[0m\u001b[0;34m\u001b[0m\u001b[0m\n\u001b[0m\u001b[1;32m      3\u001b[0m \u001b[0;34m\u001b[0m\u001b[0m\n\u001b[1;32m      4\u001b[0m \u001b[0mX_train\u001b[0m \u001b[0;34m=\u001b[0m \u001b[0mz_score\u001b[0m\u001b[0;34m(\u001b[0m\u001b[0mX_train\u001b[0m\u001b[0;34m)\u001b[0m\u001b[0;34m\u001b[0m\u001b[0m\n\u001b[1;32m      5\u001b[0m \u001b[0my_train\u001b[0m \u001b[0;34m=\u001b[0m \u001b[0mz_score\u001b[0m\u001b[0;34m(\u001b[0m\u001b[0my_train\u001b[0m\u001b[0;34m)\u001b[0m\u001b[0;34m\u001b[0m\u001b[0m\n",
      "\u001b[0;31mNameError\u001b[0m: name 'X' is not defined"
     ]
    }
   ],
   "source": [
    "from sklearn.model_selection import train_test_split\n",
    "X_train, X_test, y_train, y_test = train_test_split(X, y, test_size = 0.3, random_state = 0)\n",
    "\n",
    "X_train = z_score(X_train)\n",
    "y_train = z_score(y_train)\n",
    "X_test  = z_score(X_test)\n",
    "y_test  = z_score(y_test)"
   ]
  },
  {
   "cell_type": "code",
   "execution_count": 12,
   "metadata": {},
   "outputs": [
    {
     "data": {
      "text/plain": [
       "LinearRegression(copy_X=True, fit_intercept=True, n_jobs=1, normalize=False)"
      ]
     },
     "execution_count": 12,
     "metadata": {},
     "output_type": "execute_result"
    }
   ],
   "source": [
    "from sklearn.linear_model import LinearRegression\n",
    "regressor = LinearRegression()\n",
    "regressor.fit(X_train, y_train)"
   ]
  },
  {
   "cell_type": "code",
   "execution_count": 13,
   "metadata": {},
   "outputs": [],
   "source": [
    "coeff_df = pd.DataFrame(regressor.coef_, X.columns, columns = ['coefficient'])"
   ]
  },
  {
   "cell_type": "code",
   "execution_count": 14,
   "metadata": {},
   "outputs": [
    {
     "data": {
      "text/html": [
       "<div>\n",
       "<style scoped>\n",
       "    .dataframe tbody tr th:only-of-type {\n",
       "        vertical-align: middle;\n",
       "    }\n",
       "\n",
       "    .dataframe tbody tr th {\n",
       "        vertical-align: top;\n",
       "    }\n",
       "\n",
       "    .dataframe thead th {\n",
       "        text-align: right;\n",
       "    }\n",
       "</style>\n",
       "<table border=\"1\" class=\"dataframe\">\n",
       "  <thead>\n",
       "    <tr style=\"text-align: right;\">\n",
       "      <th></th>\n",
       "      <th>coefficient</th>\n",
       "    </tr>\n",
       "  </thead>\n",
       "  <tbody>\n",
       "    <tr>\n",
       "      <th>app_num</th>\n",
       "      <td>0.004270</td>\n",
       "    </tr>\n",
       "    <tr>\n",
       "      <th>adm_num</th>\n",
       "      <td>-0.431469</td>\n",
       "    </tr>\n",
       "    <tr>\n",
       "      <th>app_gpa</th>\n",
       "      <td>-0.077701</td>\n",
       "    </tr>\n",
       "    <tr>\n",
       "      <th>adm_gpa</th>\n",
       "      <td>0.298331</td>\n",
       "    </tr>\n",
       "    <tr>\n",
       "      <th>year</th>\n",
       "      <td>-0.086677</td>\n",
       "    </tr>\n",
       "    <tr>\n",
       "      <th>distance</th>\n",
       "      <td>-0.182316</td>\n",
       "    </tr>\n",
       "  </tbody>\n",
       "</table>\n",
       "</div>"
      ],
      "text/plain": [
       "          coefficient\n",
       "app_num      0.004270\n",
       "adm_num     -0.431469\n",
       "app_gpa     -0.077701\n",
       "adm_gpa      0.298331\n",
       "year        -0.086677\n",
       "distance    -0.182316"
      ]
     },
     "execution_count": 14,
     "metadata": {},
     "output_type": "execute_result"
    }
   ],
   "source": [
    "coeff_df"
   ]
  },
  {
   "cell_type": "code",
   "execution_count": 15,
   "metadata": {},
   "outputs": [],
   "source": [
    "y_pred = regressor.predict(X_test)"
   ]
  },
  {
   "cell_type": "code",
   "execution_count": 16,
   "metadata": {},
   "outputs": [
    {
     "data": {
      "text/html": [
       "<div>\n",
       "<style scoped>\n",
       "    .dataframe tbody tr th:only-of-type {\n",
       "        vertical-align: middle;\n",
       "    }\n",
       "\n",
       "    .dataframe tbody tr th {\n",
       "        vertical-align: top;\n",
       "    }\n",
       "\n",
       "    .dataframe thead th {\n",
       "        text-align: right;\n",
       "    }\n",
       "</style>\n",
       "<table border=\"1\" class=\"dataframe\">\n",
       "  <thead>\n",
       "    <tr style=\"text-align: right;\">\n",
       "      <th></th>\n",
       "      <th>Actual Yield</th>\n",
       "      <th>Predicted Yield</th>\n",
       "    </tr>\n",
       "  </thead>\n",
       "  <tbody>\n",
       "    <tr>\n",
       "      <th>264025</th>\n",
       "      <td>-1.002975</td>\n",
       "      <td>-0.029656</td>\n",
       "    </tr>\n",
       "    <tr>\n",
       "      <th>266980</th>\n",
       "      <td>-0.823189</td>\n",
       "      <td>-0.637648</td>\n",
       "    </tr>\n",
       "    <tr>\n",
       "      <th>272496</th>\n",
       "      <td>0.155644</td>\n",
       "      <td>-0.124353</td>\n",
       "    </tr>\n",
       "    <tr>\n",
       "      <th>200621</th>\n",
       "      <td>0.938711</td>\n",
       "      <td>0.464500</td>\n",
       "    </tr>\n",
       "    <tr>\n",
       "      <th>215063</th>\n",
       "      <td>0.144888</td>\n",
       "      <td>-0.427768</td>\n",
       "    </tr>\n",
       "    <tr>\n",
       "      <th>86007</th>\n",
       "      <td>-0.532766</td>\n",
       "      <td>0.339291</td>\n",
       "    </tr>\n",
       "    <tr>\n",
       "      <th>180729</th>\n",
       "      <td>-1.549641</td>\n",
       "      <td>-2.168191</td>\n",
       "    </tr>\n",
       "    <tr>\n",
       "      <th>23456</th>\n",
       "      <td>0.714978</td>\n",
       "      <td>0.355855</td>\n",
       "    </tr>\n",
       "    <tr>\n",
       "      <th>18412</th>\n",
       "      <td>1.016157</td>\n",
       "      <td>0.105385</td>\n",
       "    </tr>\n",
       "    <tr>\n",
       "      <th>49512</th>\n",
       "      <td>-0.823189</td>\n",
       "      <td>0.112138</td>\n",
       "    </tr>\n",
       "  </tbody>\n",
       "</table>\n",
       "</div>"
      ],
      "text/plain": [
       "        Actual Yield  Predicted Yield\n",
       "264025     -1.002975        -0.029656\n",
       "266980     -0.823189        -0.637648\n",
       "272496      0.155644        -0.124353\n",
       "200621      0.938711         0.464500\n",
       "215063      0.144888        -0.427768\n",
       "86007      -0.532766         0.339291\n",
       "180729     -1.549641        -2.168191\n",
       "23456       0.714978         0.355855\n",
       "18412       1.016157         0.105385\n",
       "49512      -0.823189         0.112138"
      ]
     },
     "execution_count": 16,
     "metadata": {},
     "output_type": "execute_result"
    }
   ],
   "source": [
    "data_result = pd.DataFrame({'Actual Yield': y_test, 'Predicted Yield': y_pred}) \n",
    "data_result.head(10)"
   ]
  },
  {
   "cell_type": "code",
   "execution_count": 17,
   "metadata": {},
   "outputs": [
    {
     "data": {
      "text/plain": [
       "(14579, 2)"
      ]
     },
     "execution_count": 17,
     "metadata": {},
     "output_type": "execute_result"
    }
   ],
   "source": [
    "data_result.shape"
   ]
  },
  {
   "cell_type": "code",
   "execution_count": null,
   "metadata": {},
   "outputs": [],
   "source": []
  },
  {
   "cell_type": "code",
   "execution_count": null,
   "metadata": {},
   "outputs": [],
   "source": []
  },
  {
   "cell_type": "code",
   "execution_count": null,
   "metadata": {},
   "outputs": [],
   "source": []
  }
 ],
 "metadata": {
  "kernelspec": {
   "display_name": "Python 3",
   "language": "python",
   "name": "python3"
  },
  "language_info": {
   "codemirror_mode": {
    "name": "ipython",
    "version": 3
   },
   "file_extension": ".py",
   "mimetype": "text/x-python",
   "name": "python",
   "nbconvert_exporter": "python",
   "pygments_lexer": "ipython3",
   "version": "3.6.4"
  }
 },
 "nbformat": 4,
 "nbformat_minor": 2
}
