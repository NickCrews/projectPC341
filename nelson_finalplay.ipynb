{
 "cells": [
  {
   "cell_type": "markdown",
   "metadata": {},
   "source": [
    "Assuming we already have SAT/AP scores and the high schools distances in the file, we would only look for high schools which are in California and we want to filter those schools out first. "
   ]
  },
  {
   "cell_type": "code",
   "execution_count": 1,
   "metadata": {},
   "outputs": [],
   "source": [
    "import pandas as pd\n",
    "%matplotlib inline\n",
    "import pylab as plt\n",
    "import numpy as np\n",
    "import scipy as sc\n",
    "from scipy import stats"
   ]
  },
  {
   "cell_type": "code",
   "execution_count": 2,
   "metadata": {
    "scrolled": false
   },
   "outputs": [
    {
     "data": {
      "text/html": [
       "<div>\n",
       "<style scoped>\n",
       "    .dataframe tbody tr th:only-of-type {\n",
       "        vertical-align: middle;\n",
       "    }\n",
       "\n",
       "    .dataframe tbody tr th {\n",
       "        vertical-align: top;\n",
       "    }\n",
       "\n",
       "    .dataframe thead th {\n",
       "        text-align: right;\n",
       "    }\n",
       "</style>\n",
       "<table border=\"1\" class=\"dataframe\">\n",
       "  <thead>\n",
       "    <tr style=\"text-align: right;\">\n",
       "      <th></th>\n",
       "      <th>campus</th>\n",
       "      <th>year</th>\n",
       "      <th>school</th>\n",
       "      <th>school_num</th>\n",
       "      <th>city</th>\n",
       "      <th>county</th>\n",
       "      <th>state</th>\n",
       "      <th>country</th>\n",
       "      <th>region</th>\n",
       "      <th>ethnicity</th>\n",
       "      <th>app_num</th>\n",
       "      <th>adm_num</th>\n",
       "      <th>enr_num</th>\n",
       "      <th>app_gpa</th>\n",
       "      <th>adm_gpa</th>\n",
       "      <th>enr_gpa</th>\n",
       "      <th>distance</th>\n",
       "    </tr>\n",
       "  </thead>\n",
       "  <tbody>\n",
       "    <tr>\n",
       "      <th>0</th>\n",
       "      <td>Berkeley</td>\n",
       "      <td>1994.0</td>\n",
       "      <td>ABRAHAM LINCOLN HIGH SCHOOL</td>\n",
       "      <td>3833241.0</td>\n",
       "      <td>Los Angeles</td>\n",
       "      <td>Los Angeles</td>\n",
       "      <td>California</td>\n",
       "      <td>USA</td>\n",
       "      <td>Los Angeles</td>\n",
       "      <td>All</td>\n",
       "      <td>14.0</td>\n",
       "      <td>NaN</td>\n",
       "      <td>NaN</td>\n",
       "      <td>3.620000</td>\n",
       "      <td>NaN</td>\n",
       "      <td>NaN</td>\n",
       "      <td>601648.0</td>\n",
       "    </tr>\n",
       "    <tr>\n",
       "      <th>1</th>\n",
       "      <td>Berkeley</td>\n",
       "      <td>1994.0</td>\n",
       "      <td>ABRAHAM LINCOLN HIGH SCHOOL</td>\n",
       "      <td>3833241.0</td>\n",
       "      <td>Los Angeles</td>\n",
       "      <td>Los Angeles</td>\n",
       "      <td>California</td>\n",
       "      <td>USA</td>\n",
       "      <td>Los Angeles</td>\n",
       "      <td>Asian</td>\n",
       "      <td>8.0</td>\n",
       "      <td>NaN</td>\n",
       "      <td>NaN</td>\n",
       "      <td>3.620000</td>\n",
       "      <td>NaN</td>\n",
       "      <td>NaN</td>\n",
       "      <td>601648.0</td>\n",
       "    </tr>\n",
       "    <tr>\n",
       "      <th>2</th>\n",
       "      <td>Berkeley</td>\n",
       "      <td>1994.0</td>\n",
       "      <td>ABRAHAM LINCOLN HIGH SCHOOL</td>\n",
       "      <td>3833241.0</td>\n",
       "      <td>Los Angeles</td>\n",
       "      <td>Los Angeles</td>\n",
       "      <td>California</td>\n",
       "      <td>USA</td>\n",
       "      <td>Los Angeles</td>\n",
       "      <td>Hispanic/ Latino</td>\n",
       "      <td>5.0</td>\n",
       "      <td>NaN</td>\n",
       "      <td>NaN</td>\n",
       "      <td>3.620000</td>\n",
       "      <td>NaN</td>\n",
       "      <td>NaN</td>\n",
       "      <td>601648.0</td>\n",
       "    </tr>\n",
       "    <tr>\n",
       "      <th>3</th>\n",
       "      <td>Berkeley</td>\n",
       "      <td>1994.0</td>\n",
       "      <td>ABRAHAM LINCOLN HIGH SCHOOL</td>\n",
       "      <td>3833241.0</td>\n",
       "      <td>San Francisco</td>\n",
       "      <td>San Francisco</td>\n",
       "      <td>California</td>\n",
       "      <td>USA</td>\n",
       "      <td>San Francisco</td>\n",
       "      <td>All</td>\n",
       "      <td>58.0</td>\n",
       "      <td>8.0</td>\n",
       "      <td>7.0</td>\n",
       "      <td>3.682931</td>\n",
       "      <td>4.12125</td>\n",
       "      <td>4.088571</td>\n",
       "      <td>33037.0</td>\n",
       "    </tr>\n",
       "    <tr>\n",
       "      <th>4</th>\n",
       "      <td>Berkeley</td>\n",
       "      <td>1994.0</td>\n",
       "      <td>ABRAHAM LINCOLN HIGH SCHOOL</td>\n",
       "      <td>3833241.0</td>\n",
       "      <td>San Francisco</td>\n",
       "      <td>San Francisco</td>\n",
       "      <td>California</td>\n",
       "      <td>USA</td>\n",
       "      <td>San Francisco</td>\n",
       "      <td>Asian</td>\n",
       "      <td>50.0</td>\n",
       "      <td>8.0</td>\n",
       "      <td>7.0</td>\n",
       "      <td>3.682931</td>\n",
       "      <td>4.12125</td>\n",
       "      <td>4.088571</td>\n",
       "      <td>33037.0</td>\n",
       "    </tr>\n",
       "  </tbody>\n",
       "</table>\n",
       "</div>"
      ],
      "text/plain": [
       "     campus    year                       school  school_num           city  \\\n",
       "0  Berkeley  1994.0  ABRAHAM LINCOLN HIGH SCHOOL   3833241.0    Los Angeles   \n",
       "1  Berkeley  1994.0  ABRAHAM LINCOLN HIGH SCHOOL   3833241.0    Los Angeles   \n",
       "2  Berkeley  1994.0  ABRAHAM LINCOLN HIGH SCHOOL   3833241.0    Los Angeles   \n",
       "3  Berkeley  1994.0  ABRAHAM LINCOLN HIGH SCHOOL   3833241.0  San Francisco   \n",
       "4  Berkeley  1994.0  ABRAHAM LINCOLN HIGH SCHOOL   3833241.0  San Francisco   \n",
       "\n",
       "          county       state country         region         ethnicity  \\\n",
       "0    Los Angeles  California     USA    Los Angeles               All   \n",
       "1    Los Angeles  California     USA    Los Angeles             Asian   \n",
       "2    Los Angeles  California     USA    Los Angeles  Hispanic/ Latino   \n",
       "3  San Francisco  California     USA  San Francisco               All   \n",
       "4  San Francisco  California     USA  San Francisco             Asian   \n",
       "\n",
       "   app_num  adm_num  enr_num   app_gpa  adm_gpa   enr_gpa  distance  \n",
       "0     14.0      NaN      NaN  3.620000      NaN       NaN  601648.0  \n",
       "1      8.0      NaN      NaN  3.620000      NaN       NaN  601648.0  \n",
       "2      5.0      NaN      NaN  3.620000      NaN       NaN  601648.0  \n",
       "3     58.0      8.0      7.0  3.682931  4.12125  4.088571   33037.0  \n",
       "4     50.0      8.0      7.0  3.682931  4.12125  4.088571   33037.0  "
      ]
     },
     "execution_count": 2,
     "metadata": {},
     "output_type": "execute_result"
    }
   ],
   "source": [
    "data = pd.read_csv('data/distances_and_cds.csv')\n",
    "data.head()"
   ]
  },
  {
   "cell_type": "markdown",
   "metadata": {},
   "source": [
    "check the total number of high schools in our file "
   ]
  },
  {
   "cell_type": "code",
   "execution_count": 3,
   "metadata": {},
   "outputs": [
    {
     "data": {
      "text/plain": [
       "2843"
      ]
     },
     "execution_count": 3,
     "metadata": {},
     "output_type": "execute_result"
    }
   ],
   "source": [
    "tot_high = len(data['school'].unique())\n",
    "tot_high"
   ]
  },
  {
   "cell_type": "code",
   "execution_count": 4,
   "metadata": {
    "scrolled": true
   },
   "outputs": [
    {
     "data": {
      "text/html": [
       "<div>\n",
       "<style scoped>\n",
       "    .dataframe tbody tr th:only-of-type {\n",
       "        vertical-align: middle;\n",
       "    }\n",
       "\n",
       "    .dataframe tbody tr th {\n",
       "        vertical-align: top;\n",
       "    }\n",
       "\n",
       "    .dataframe thead th {\n",
       "        text-align: right;\n",
       "    }\n",
       "</style>\n",
       "<table border=\"1\" class=\"dataframe\">\n",
       "  <thead>\n",
       "    <tr style=\"text-align: right;\">\n",
       "      <th></th>\n",
       "      <th>campus</th>\n",
       "      <th>year</th>\n",
       "      <th>school</th>\n",
       "      <th>school_num</th>\n",
       "      <th>city</th>\n",
       "      <th>county</th>\n",
       "      <th>state</th>\n",
       "      <th>country</th>\n",
       "      <th>region</th>\n",
       "      <th>ethnicity</th>\n",
       "      <th>app_num</th>\n",
       "      <th>adm_num</th>\n",
       "      <th>enr_num</th>\n",
       "      <th>app_gpa</th>\n",
       "      <th>adm_gpa</th>\n",
       "      <th>enr_gpa</th>\n",
       "      <th>distance</th>\n",
       "    </tr>\n",
       "  </thead>\n",
       "  <tbody>\n",
       "    <tr>\n",
       "      <th>0</th>\n",
       "      <td>Berkeley</td>\n",
       "      <td>1994.0</td>\n",
       "      <td>ABRAHAM LINCOLN HIGH SCHOOL</td>\n",
       "      <td>3833241.0</td>\n",
       "      <td>Los Angeles</td>\n",
       "      <td>Los Angeles</td>\n",
       "      <td>California</td>\n",
       "      <td>USA</td>\n",
       "      <td>Los Angeles</td>\n",
       "      <td>All</td>\n",
       "      <td>14.0</td>\n",
       "      <td>NaN</td>\n",
       "      <td>NaN</td>\n",
       "      <td>3.620000</td>\n",
       "      <td>NaN</td>\n",
       "      <td>NaN</td>\n",
       "      <td>601648.0</td>\n",
       "    </tr>\n",
       "    <tr>\n",
       "      <th>1</th>\n",
       "      <td>Berkeley</td>\n",
       "      <td>1994.0</td>\n",
       "      <td>ABRAHAM LINCOLN HIGH SCHOOL</td>\n",
       "      <td>3833241.0</td>\n",
       "      <td>Los Angeles</td>\n",
       "      <td>Los Angeles</td>\n",
       "      <td>California</td>\n",
       "      <td>USA</td>\n",
       "      <td>Los Angeles</td>\n",
       "      <td>Asian</td>\n",
       "      <td>8.0</td>\n",
       "      <td>NaN</td>\n",
       "      <td>NaN</td>\n",
       "      <td>3.620000</td>\n",
       "      <td>NaN</td>\n",
       "      <td>NaN</td>\n",
       "      <td>601648.0</td>\n",
       "    </tr>\n",
       "    <tr>\n",
       "      <th>2</th>\n",
       "      <td>Berkeley</td>\n",
       "      <td>1994.0</td>\n",
       "      <td>ABRAHAM LINCOLN HIGH SCHOOL</td>\n",
       "      <td>3833241.0</td>\n",
       "      <td>Los Angeles</td>\n",
       "      <td>Los Angeles</td>\n",
       "      <td>California</td>\n",
       "      <td>USA</td>\n",
       "      <td>Los Angeles</td>\n",
       "      <td>Hispanic/ Latino</td>\n",
       "      <td>5.0</td>\n",
       "      <td>NaN</td>\n",
       "      <td>NaN</td>\n",
       "      <td>3.620000</td>\n",
       "      <td>NaN</td>\n",
       "      <td>NaN</td>\n",
       "      <td>601648.0</td>\n",
       "    </tr>\n",
       "    <tr>\n",
       "      <th>3</th>\n",
       "      <td>Berkeley</td>\n",
       "      <td>1994.0</td>\n",
       "      <td>ABRAHAM LINCOLN HIGH SCHOOL</td>\n",
       "      <td>3833241.0</td>\n",
       "      <td>San Francisco</td>\n",
       "      <td>San Francisco</td>\n",
       "      <td>California</td>\n",
       "      <td>USA</td>\n",
       "      <td>San Francisco</td>\n",
       "      <td>All</td>\n",
       "      <td>58.0</td>\n",
       "      <td>8.0</td>\n",
       "      <td>7.0</td>\n",
       "      <td>3.682931</td>\n",
       "      <td>4.12125</td>\n",
       "      <td>4.088571</td>\n",
       "      <td>33037.0</td>\n",
       "    </tr>\n",
       "    <tr>\n",
       "      <th>4</th>\n",
       "      <td>Berkeley</td>\n",
       "      <td>1994.0</td>\n",
       "      <td>ABRAHAM LINCOLN HIGH SCHOOL</td>\n",
       "      <td>3833241.0</td>\n",
       "      <td>San Francisco</td>\n",
       "      <td>San Francisco</td>\n",
       "      <td>California</td>\n",
       "      <td>USA</td>\n",
       "      <td>San Francisco</td>\n",
       "      <td>Asian</td>\n",
       "      <td>50.0</td>\n",
       "      <td>8.0</td>\n",
       "      <td>7.0</td>\n",
       "      <td>3.682931</td>\n",
       "      <td>4.12125</td>\n",
       "      <td>4.088571</td>\n",
       "      <td>33037.0</td>\n",
       "    </tr>\n",
       "  </tbody>\n",
       "</table>\n",
       "</div>"
      ],
      "text/plain": [
       "     campus    year                       school  school_num           city  \\\n",
       "0  Berkeley  1994.0  ABRAHAM LINCOLN HIGH SCHOOL   3833241.0    Los Angeles   \n",
       "1  Berkeley  1994.0  ABRAHAM LINCOLN HIGH SCHOOL   3833241.0    Los Angeles   \n",
       "2  Berkeley  1994.0  ABRAHAM LINCOLN HIGH SCHOOL   3833241.0    Los Angeles   \n",
       "3  Berkeley  1994.0  ABRAHAM LINCOLN HIGH SCHOOL   3833241.0  San Francisco   \n",
       "4  Berkeley  1994.0  ABRAHAM LINCOLN HIGH SCHOOL   3833241.0  San Francisco   \n",
       "\n",
       "          county       state country         region         ethnicity  \\\n",
       "0    Los Angeles  California     USA    Los Angeles               All   \n",
       "1    Los Angeles  California     USA    Los Angeles             Asian   \n",
       "2    Los Angeles  California     USA    Los Angeles  Hispanic/ Latino   \n",
       "3  San Francisco  California     USA  San Francisco               All   \n",
       "4  San Francisco  California     USA  San Francisco             Asian   \n",
       "\n",
       "   app_num  adm_num  enr_num   app_gpa  adm_gpa   enr_gpa  distance  \n",
       "0     14.0      NaN      NaN  3.620000      NaN       NaN  601648.0  \n",
       "1      8.0      NaN      NaN  3.620000      NaN       NaN  601648.0  \n",
       "2      5.0      NaN      NaN  3.620000      NaN       NaN  601648.0  \n",
       "3     58.0      8.0      7.0  3.682931  4.12125  4.088571   33037.0  \n",
       "4     50.0      8.0      7.0  3.682931  4.12125  4.088571   33037.0  "
      ]
     },
     "execution_count": 4,
     "metadata": {},
     "output_type": "execute_result"
    }
   ],
   "source": [
    "data[data['state']=='California']\n",
    "data.head()"
   ]
  },
  {
   "cell_type": "markdown",
   "metadata": {},
   "source": [
    "check the total number of high schools in california "
   ]
  },
  {
   "cell_type": "code",
   "execution_count": 5,
   "metadata": {},
   "outputs": [
    {
     "data": {
      "text/plain": [
       "860"
      ]
     },
     "execution_count": 5,
     "metadata": {},
     "output_type": "execute_result"
    }
   ],
   "source": [
    "num_cali_high = len(data[data['state']=='California']['school'].unique())\n",
    "num_cali_high"
   ]
  },
  {
   "cell_type": "code",
   "execution_count": 6,
   "metadata": {
    "scrolled": true
   },
   "outputs": [
    {
     "name": "stderr",
     "output_type": "stream",
     "text": [
      "/Users/Nelson/anaconda3/lib/python3.6/site-packages/ipykernel_launcher.py:2: SettingWithCopyWarning: \n",
      "A value is trying to be set on a copy of a slice from a DataFrame.\n",
      "Try using .loc[row_indexer,col_indexer] = value instead\n",
      "\n",
      "See the caveats in the documentation: http://pandas.pydata.org/pandas-docs/stable/indexing.html#indexing-view-versus-copy\n",
      "  \n"
     ]
    },
    {
     "data": {
      "text/html": [
       "<div>\n",
       "<style scoped>\n",
       "    .dataframe tbody tr th:only-of-type {\n",
       "        vertical-align: middle;\n",
       "    }\n",
       "\n",
       "    .dataframe tbody tr th {\n",
       "        vertical-align: top;\n",
       "    }\n",
       "\n",
       "    .dataframe thead th {\n",
       "        text-align: right;\n",
       "    }\n",
       "</style>\n",
       "<table border=\"1\" class=\"dataframe\">\n",
       "  <thead>\n",
       "    <tr style=\"text-align: right;\">\n",
       "      <th></th>\n",
       "      <th>year</th>\n",
       "      <th>school_num</th>\n",
       "      <th>app_num</th>\n",
       "      <th>adm_num</th>\n",
       "      <th>enr_num</th>\n",
       "      <th>app_gpa</th>\n",
       "      <th>adm_gpa</th>\n",
       "      <th>enr_gpa</th>\n",
       "      <th>distance</th>\n",
       "      <th>yield</th>\n",
       "    </tr>\n",
       "  </thead>\n",
       "  <tbody>\n",
       "    <tr>\n",
       "      <th>count</th>\n",
       "      <td>278029.000000</td>\n",
       "      <td>2.075630e+05</td>\n",
       "      <td>278029.000000</td>\n",
       "      <td>208973.000000</td>\n",
       "      <td>83776.000000</td>\n",
       "      <td>278029.000000</td>\n",
       "      <td>208973.000000</td>\n",
       "      <td>83776.000000</td>\n",
       "      <td>2.332610e+05</td>\n",
       "      <td>83776.000000</td>\n",
       "    </tr>\n",
       "    <tr>\n",
       "      <th>mean</th>\n",
       "      <td>2007.508990</td>\n",
       "      <td>2.365212e+06</td>\n",
       "      <td>24.390308</td>\n",
       "      <td>16.130845</td>\n",
       "      <td>12.035511</td>\n",
       "      <td>3.669844</td>\n",
       "      <td>3.884817</td>\n",
       "      <td>3.831920</td>\n",
       "      <td>3.345409e+05</td>\n",
       "      <td>0.482094</td>\n",
       "    </tr>\n",
       "    <tr>\n",
       "      <th>std</th>\n",
       "      <td>6.651732</td>\n",
       "      <td>1.528964e+06</td>\n",
       "      <td>31.352837</td>\n",
       "      <td>21.616506</td>\n",
       "      <td>15.655316</td>\n",
       "      <td>0.194324</td>\n",
       "      <td>0.227329</td>\n",
       "      <td>0.226885</td>\n",
       "      <td>2.617145e+05</td>\n",
       "      <td>0.200331</td>\n",
       "    </tr>\n",
       "    <tr>\n",
       "      <th>min</th>\n",
       "      <td>1994.000000</td>\n",
       "      <td>1.002550e+05</td>\n",
       "      <td>5.000000</td>\n",
       "      <td>3.000000</td>\n",
       "      <td>3.000000</td>\n",
       "      <td>2.468333</td>\n",
       "      <td>2.798462</td>\n",
       "      <td>2.782000</td>\n",
       "      <td>6.620000e+02</td>\n",
       "      <td>0.044776</td>\n",
       "    </tr>\n",
       "    <tr>\n",
       "      <th>25%</th>\n",
       "      <td>2002.000000</td>\n",
       "      <td>1.032150e+06</td>\n",
       "      <td>8.000000</td>\n",
       "      <td>5.000000</td>\n",
       "      <td>5.000000</td>\n",
       "      <td>3.545556</td>\n",
       "      <td>3.720667</td>\n",
       "      <td>3.690000</td>\n",
       "      <td>9.825300e+04</td>\n",
       "      <td>0.333333</td>\n",
       "    </tr>\n",
       "    <tr>\n",
       "      <th>50%</th>\n",
       "      <td>2008.000000</td>\n",
       "      <td>1.937564e+06</td>\n",
       "      <td>13.000000</td>\n",
       "      <td>9.000000</td>\n",
       "      <td>7.000000</td>\n",
       "      <td>3.683235</td>\n",
       "      <td>3.892222</td>\n",
       "      <td>3.842462</td>\n",
       "      <td>2.207980e+05</td>\n",
       "      <td>0.473684</td>\n",
       "    </tr>\n",
       "    <tr>\n",
       "      <th>75%</th>\n",
       "      <td>2013.000000</td>\n",
       "      <td>3.630407e+06</td>\n",
       "      <td>27.000000</td>\n",
       "      <td>18.000000</td>\n",
       "      <td>13.000000</td>\n",
       "      <td>3.807857</td>\n",
       "      <td>4.068571</td>\n",
       "      <td>3.994419</td>\n",
       "      <td>6.004540e+05</td>\n",
       "      <td>0.615385</td>\n",
       "    </tr>\n",
       "    <tr>\n",
       "      <th>max</th>\n",
       "      <td>2017.000000</td>\n",
       "      <td>6.119309e+06</td>\n",
       "      <td>544.000000</td>\n",
       "      <td>472.000000</td>\n",
       "      <td>295.000000</td>\n",
       "      <td>4.356667</td>\n",
       "      <td>4.495000</td>\n",
       "      <td>4.430000</td>\n",
       "      <td>1.348288e+06</td>\n",
       "      <td>1.000000</td>\n",
       "    </tr>\n",
       "  </tbody>\n",
       "</table>\n",
       "</div>"
      ],
      "text/plain": [
       "                year    school_num        app_num        adm_num  \\\n",
       "count  278029.000000  2.075630e+05  278029.000000  208973.000000   \n",
       "mean     2007.508990  2.365212e+06      24.390308      16.130845   \n",
       "std         6.651732  1.528964e+06      31.352837      21.616506   \n",
       "min      1994.000000  1.002550e+05       5.000000       3.000000   \n",
       "25%      2002.000000  1.032150e+06       8.000000       5.000000   \n",
       "50%      2008.000000  1.937564e+06      13.000000       9.000000   \n",
       "75%      2013.000000  3.630407e+06      27.000000      18.000000   \n",
       "max      2017.000000  6.119309e+06     544.000000     472.000000   \n",
       "\n",
       "            enr_num        app_gpa        adm_gpa       enr_gpa      distance  \\\n",
       "count  83776.000000  278029.000000  208973.000000  83776.000000  2.332610e+05   \n",
       "mean      12.035511       3.669844       3.884817      3.831920  3.345409e+05   \n",
       "std       15.655316       0.194324       0.227329      0.226885  2.617145e+05   \n",
       "min        3.000000       2.468333       2.798462      2.782000  6.620000e+02   \n",
       "25%        5.000000       3.545556       3.720667      3.690000  9.825300e+04   \n",
       "50%        7.000000       3.683235       3.892222      3.842462  2.207980e+05   \n",
       "75%       13.000000       3.807857       4.068571      3.994419  6.004540e+05   \n",
       "max      295.000000       4.356667       4.495000      4.430000  1.348288e+06   \n",
       "\n",
       "              yield  \n",
       "count  83776.000000  \n",
       "mean       0.482094  \n",
       "std        0.200331  \n",
       "min        0.044776  \n",
       "25%        0.333333  \n",
       "50%        0.473684  \n",
       "75%        0.615385  \n",
       "max        1.000000  "
      ]
     },
     "execution_count": 6,
     "metadata": {},
     "output_type": "execute_result"
    }
   ],
   "source": [
    "data_cali_high = data[data['state']=='California']\n",
    "data_cali_high['yield'] = data_cali_high['enr_num'] / data_cali_high['adm_num']\n",
    "data_cali_high.describe()"
   ]
  },
  {
   "cell_type": "markdown",
   "metadata": {},
   "source": [
    "check how many NaN's are there"
   ]
  },
  {
   "cell_type": "code",
   "execution_count": 7,
   "metadata": {
    "scrolled": true
   },
   "outputs": [
    {
     "data": {
      "text/plain": [
       "campus             0\n",
       "year               0\n",
       "school             0\n",
       "school_num     70466\n",
       "city               0\n",
       "county             0\n",
       "state              0\n",
       "country            0\n",
       "region             0\n",
       "ethnicity          0\n",
       "app_num            0\n",
       "adm_num        69056\n",
       "enr_num       194253\n",
       "app_gpa            0\n",
       "adm_gpa        69056\n",
       "enr_gpa       194253\n",
       "distance       44768\n",
       "yield         194253\n",
       "dtype: int64"
      ]
     },
     "execution_count": 7,
     "metadata": {},
     "output_type": "execute_result"
    }
   ],
   "source": [
    "count_nan = len(data_cali_high) - data_cali_high.count()\n",
    "count_nan"
   ]
  },
  {
   "cell_type": "markdown",
   "metadata": {},
   "source": [
    "filter out the NaN data"
   ]
  },
  {
   "cell_type": "code",
   "execution_count": 8,
   "metadata": {},
   "outputs": [],
   "source": [
    "data_cali_high = data_cali_high.dropna()"
   ]
  },
  {
   "cell_type": "markdown",
   "metadata": {},
   "source": [
    "X is to be fixed, it contains the features we want to include. We want to add AP and SAT scores later on "
   ]
  },
  {
   "cell_type": "code",
   "execution_count": 9,
   "metadata": {},
   "outputs": [],
   "source": [
    "X = data_cali_high[['app_num', 'adm_num', 'app_gpa', 'adm_gpa', 'year', 'distance']]\n",
    "y = data_cali_high['yield']"
   ]
  },
  {
   "cell_type": "code",
   "execution_count": 10,
   "metadata": {},
   "outputs": [],
   "source": [
    "def z_score(x):\n",
    "    return (x - x.mean()) / x.std()"
   ]
  },
  {
   "cell_type": "code",
   "execution_count": 11,
   "metadata": {},
   "outputs": [
    {
     "data": {
      "text/html": [
       "<div>\n",
       "<style scoped>\n",
       "    .dataframe tbody tr th:only-of-type {\n",
       "        vertical-align: middle;\n",
       "    }\n",
       "\n",
       "    .dataframe tbody tr th {\n",
       "        vertical-align: top;\n",
       "    }\n",
       "\n",
       "    .dataframe thead th {\n",
       "        text-align: right;\n",
       "    }\n",
       "</style>\n",
       "<table border=\"1\" class=\"dataframe\">\n",
       "  <thead>\n",
       "    <tr style=\"text-align: right;\">\n",
       "      <th></th>\n",
       "      <th>app_num</th>\n",
       "      <th>adm_num</th>\n",
       "      <th>app_gpa</th>\n",
       "      <th>adm_gpa</th>\n",
       "      <th>year</th>\n",
       "      <th>distance</th>\n",
       "    </tr>\n",
       "  </thead>\n",
       "  <tbody>\n",
       "    <tr>\n",
       "      <th>211426</th>\n",
       "      <td>393.0</td>\n",
       "      <td>104.0</td>\n",
       "      <td>3.770791</td>\n",
       "      <td>4.165340</td>\n",
       "      <td>2015.0</td>\n",
       "      <td>191397.0</td>\n",
       "    </tr>\n",
       "    <tr>\n",
       "      <th>188937</th>\n",
       "      <td>22.0</td>\n",
       "      <td>8.0</td>\n",
       "      <td>3.812642</td>\n",
       "      <td>4.162000</td>\n",
       "      <td>2000.0</td>\n",
       "      <td>779110.0</td>\n",
       "    </tr>\n",
       "    <tr>\n",
       "      <th>99919</th>\n",
       "      <td>9.0</td>\n",
       "      <td>6.0</td>\n",
       "      <td>3.463061</td>\n",
       "      <td>3.960000</td>\n",
       "      <td>2016.0</td>\n",
       "      <td>69919.0</td>\n",
       "    </tr>\n",
       "    <tr>\n",
       "      <th>61055</th>\n",
       "      <td>48.0</td>\n",
       "      <td>18.0</td>\n",
       "      <td>3.637612</td>\n",
       "      <td>3.963478</td>\n",
       "      <td>2012.0</td>\n",
       "      <td>695856.0</td>\n",
       "    </tr>\n",
       "    <tr>\n",
       "      <th>46183</th>\n",
       "      <td>85.0</td>\n",
       "      <td>50.0</td>\n",
       "      <td>3.675000</td>\n",
       "      <td>3.903971</td>\n",
       "      <td>2000.0</td>\n",
       "      <td>30289.0</td>\n",
       "    </tr>\n",
       "  </tbody>\n",
       "</table>\n",
       "</div>"
      ],
      "text/plain": [
       "        app_num  adm_num   app_gpa   adm_gpa    year  distance\n",
       "211426    393.0    104.0  3.770791  4.165340  2015.0  191397.0\n",
       "188937     22.0      8.0  3.812642  4.162000  2000.0  779110.0\n",
       "99919       9.0      6.0  3.463061  3.960000  2016.0   69919.0\n",
       "61055      48.0     18.0  3.637612  3.963478  2012.0  695856.0\n",
       "46183      85.0     50.0  3.675000  3.903971  2000.0   30289.0"
      ]
     },
     "execution_count": 11,
     "metadata": {},
     "output_type": "execute_result"
    }
   ],
   "source": [
    "from sklearn.model_selection import train_test_split\n",
    "X_train, X_test, y_train, y_test = train_test_split(X, y, test_size = 0.3, random_state = 0)\n",
    "X_train.head()"
   ]
  },
  {
   "cell_type": "code",
   "execution_count": 12,
   "metadata": {},
   "outputs": [
    {
     "data": {
      "text/html": [
       "<div>\n",
       "<style scoped>\n",
       "    .dataframe tbody tr th:only-of-type {\n",
       "        vertical-align: middle;\n",
       "    }\n",
       "\n",
       "    .dataframe tbody tr th {\n",
       "        vertical-align: top;\n",
       "    }\n",
       "\n",
       "    .dataframe thead th {\n",
       "        text-align: right;\n",
       "    }\n",
       "</style>\n",
       "<table border=\"1\" class=\"dataframe\">\n",
       "  <thead>\n",
       "    <tr style=\"text-align: right;\">\n",
       "      <th></th>\n",
       "      <th>app_num</th>\n",
       "      <th>adm_num</th>\n",
       "      <th>app_gpa</th>\n",
       "      <th>adm_gpa</th>\n",
       "      <th>year</th>\n",
       "      <th>distance</th>\n",
       "    </tr>\n",
       "  </thead>\n",
       "  <tbody>\n",
       "    <tr>\n",
       "      <th>252600</th>\n",
       "      <td>2.341284</td>\n",
       "      <td>2.596981</td>\n",
       "      <td>1.687477</td>\n",
       "      <td>1.274203</td>\n",
       "      <td>1.516679</td>\n",
       "      <td>0.964306</td>\n",
       "    </tr>\n",
       "    <tr>\n",
       "      <th>177864</th>\n",
       "      <td>-0.298215</td>\n",
       "      <td>0.094990</td>\n",
       "      <td>-1.555103</td>\n",
       "      <td>-1.182344</td>\n",
       "      <td>1.074407</td>\n",
       "      <td>1.754705</td>\n",
       "    </tr>\n",
       "    <tr>\n",
       "      <th>169060</th>\n",
       "      <td>-0.469889</td>\n",
       "      <td>0.181265</td>\n",
       "      <td>-0.909931</td>\n",
       "      <td>-1.362307</td>\n",
       "      <td>0.042441</td>\n",
       "      <td>-0.853888</td>\n",
       "    </tr>\n",
       "    <tr>\n",
       "      <th>215412</th>\n",
       "      <td>-0.834698</td>\n",
       "      <td>-0.810903</td>\n",
       "      <td>0.897685</td>\n",
       "      <td>1.212511</td>\n",
       "      <td>1.369255</td>\n",
       "      <td>-0.793059</td>\n",
       "    </tr>\n",
       "    <tr>\n",
       "      <th>86362</th>\n",
       "      <td>0.645996</td>\n",
       "      <td>1.000883</td>\n",
       "      <td>-0.208973</td>\n",
       "      <td>0.187838</td>\n",
       "      <td>0.189865</td>\n",
       "      <td>-0.851201</td>\n",
       "    </tr>\n",
       "  </tbody>\n",
       "</table>\n",
       "</div>"
      ],
      "text/plain": [
       "         app_num   adm_num   app_gpa   adm_gpa      year  distance\n",
       "252600  2.341284  2.596981  1.687477  1.274203  1.516679  0.964306\n",
       "177864 -0.298215  0.094990 -1.555103 -1.182344  1.074407  1.754705\n",
       "169060 -0.469889  0.181265 -0.909931 -1.362307  0.042441 -0.853888\n",
       "215412 -0.834698 -0.810903  0.897685  1.212511  1.369255 -0.793059\n",
       "86362   0.645996  1.000883 -0.208973  0.187838  0.189865 -0.851201"
      ]
     },
     "execution_count": 12,
     "metadata": {},
     "output_type": "execute_result"
    }
   ],
   "source": [
    "X_train = z_score(X_train)\n",
    "y_train = z_score(y_train)\n",
    "X_test  = z_score(X_test)\n",
    "y_test  = z_score(y_test)\n",
    "X_test.head()"
   ]
  },
  {
   "cell_type": "code",
   "execution_count": 13,
   "metadata": {},
   "outputs": [],
   "source": [
    "from sklearn.linear_model import LinearRegression\n",
    "regressor = LinearRegression()\n",
    "lr = regressor.fit(X_train, y_train)"
   ]
  },
  {
   "cell_type": "code",
   "execution_count": 14,
   "metadata": {},
   "outputs": [],
   "source": [
    "coeff_df = pd.DataFrame(regressor.coef_, X.columns, columns = ['coefficient'])"
   ]
  },
  {
   "cell_type": "code",
   "execution_count": 15,
   "metadata": {
    "scrolled": true
   },
   "outputs": [
    {
     "data": {
      "text/html": [
       "<div>\n",
       "<style scoped>\n",
       "    .dataframe tbody tr th:only-of-type {\n",
       "        vertical-align: middle;\n",
       "    }\n",
       "\n",
       "    .dataframe tbody tr th {\n",
       "        vertical-align: top;\n",
       "    }\n",
       "\n",
       "    .dataframe thead th {\n",
       "        text-align: right;\n",
       "    }\n",
       "</style>\n",
       "<table border=\"1\" class=\"dataframe\">\n",
       "  <thead>\n",
       "    <tr style=\"text-align: right;\">\n",
       "      <th></th>\n",
       "      <th>coefficient</th>\n",
       "    </tr>\n",
       "  </thead>\n",
       "  <tbody>\n",
       "    <tr>\n",
       "      <th>app_num</th>\n",
       "      <td>0.001697</td>\n",
       "    </tr>\n",
       "    <tr>\n",
       "      <th>adm_num</th>\n",
       "      <td>-0.416863</td>\n",
       "    </tr>\n",
       "    <tr>\n",
       "      <th>app_gpa</th>\n",
       "      <td>-0.065630</td>\n",
       "    </tr>\n",
       "    <tr>\n",
       "      <th>adm_gpa</th>\n",
       "      <td>0.297996</td>\n",
       "    </tr>\n",
       "    <tr>\n",
       "      <th>year</th>\n",
       "      <td>-0.096608</td>\n",
       "    </tr>\n",
       "    <tr>\n",
       "      <th>distance</th>\n",
       "      <td>-0.194364</td>\n",
       "    </tr>\n",
       "  </tbody>\n",
       "</table>\n",
       "</div>"
      ],
      "text/plain": [
       "          coefficient\n",
       "app_num      0.001697\n",
       "adm_num     -0.416863\n",
       "app_gpa     -0.065630\n",
       "adm_gpa      0.297996\n",
       "year        -0.096608\n",
       "distance    -0.194364"
      ]
     },
     "execution_count": 15,
     "metadata": {},
     "output_type": "execute_result"
    }
   ],
   "source": [
    "coeff_df"
   ]
  },
  {
   "cell_type": "code",
   "execution_count": 16,
   "metadata": {},
   "outputs": [],
   "source": [
    "y_pred = lr.predict(X_test)"
   ]
  },
  {
   "cell_type": "code",
   "execution_count": 17,
   "metadata": {
    "scrolled": false
   },
   "outputs": [
    {
     "data": {
      "text/html": [
       "<div>\n",
       "<style scoped>\n",
       "    .dataframe tbody tr th:only-of-type {\n",
       "        vertical-align: middle;\n",
       "    }\n",
       "\n",
       "    .dataframe tbody tr th {\n",
       "        vertical-align: top;\n",
       "    }\n",
       "\n",
       "    .dataframe thead th {\n",
       "        text-align: right;\n",
       "    }\n",
       "</style>\n",
       "<table border=\"1\" class=\"dataframe\">\n",
       "  <thead>\n",
       "    <tr style=\"text-align: right;\">\n",
       "      <th></th>\n",
       "      <th>Actual Yield</th>\n",
       "      <th>Predicted Yield</th>\n",
       "    </tr>\n",
       "  </thead>\n",
       "  <tbody>\n",
       "    <tr>\n",
       "      <th>252600</th>\n",
       "      <td>-1.155465</td>\n",
       "      <td>-1.143603</td>\n",
       "    </tr>\n",
       "    <tr>\n",
       "      <th>177864</th>\n",
       "      <td>-1.358595</td>\n",
       "      <td>-0.735224</td>\n",
       "    </tr>\n",
       "    <tr>\n",
       "      <th>169060</th>\n",
       "      <td>-0.536711</td>\n",
       "      <td>-0.260738</td>\n",
       "    </tr>\n",
       "    <tr>\n",
       "      <th>215412</th>\n",
       "      <td>1.268844</td>\n",
       "      <td>0.660889</td>\n",
       "    </tr>\n",
       "    <tr>\n",
       "      <th>86362</th>\n",
       "      <td>-0.420224</td>\n",
       "      <td>-0.199344</td>\n",
       "    </tr>\n",
       "    <tr>\n",
       "      <th>8566</th>\n",
       "      <td>-0.497000</td>\n",
       "      <td>-0.060779</td>\n",
       "    </tr>\n",
       "    <tr>\n",
       "      <th>160552</th>\n",
       "      <td>-0.618938</td>\n",
       "      <td>0.103614</td>\n",
       "    </tr>\n",
       "    <tr>\n",
       "      <th>86926</th>\n",
       "      <td>-0.572050</td>\n",
       "      <td>-0.975658</td>\n",
       "    </tr>\n",
       "    <tr>\n",
       "      <th>80541</th>\n",
       "      <td>-1.418309</td>\n",
       "      <td>-0.542418</td>\n",
       "    </tr>\n",
       "    <tr>\n",
       "      <th>824</th>\n",
       "      <td>-1.053624</td>\n",
       "      <td>0.547560</td>\n",
       "    </tr>\n",
       "  </tbody>\n",
       "</table>\n",
       "</div>"
      ],
      "text/plain": [
       "        Actual Yield  Predicted Yield\n",
       "252600     -1.155465        -1.143603\n",
       "177864     -1.358595        -0.735224\n",
       "169060     -0.536711        -0.260738\n",
       "215412      1.268844         0.660889\n",
       "86362      -0.420224        -0.199344\n",
       "8566       -0.497000        -0.060779\n",
       "160552     -0.618938         0.103614\n",
       "86926      -0.572050        -0.975658\n",
       "80541      -1.418309        -0.542418\n",
       "824        -1.053624         0.547560"
      ]
     },
     "execution_count": 17,
     "metadata": {},
     "output_type": "execute_result"
    }
   ],
   "source": [
    "data_result = pd.DataFrame({'Actual Yield': y_test, 'Predicted Yield': y_pred}) \n",
    "data_result.head(10)"
   ]
  },
  {
   "cell_type": "code",
   "execution_count": 26,
   "metadata": {},
   "outputs": [
    {
     "data": {
      "text/plain": [
       "Text(0,0.5,'Predictions (Linear Regression)')"
      ]
     },
     "execution_count": 26,
     "metadata": {},
     "output_type": "execute_result"
    },
    {
     "data": {
      "image/png": "[encoded data removed]",
      "text/plain": [
       "<matplotlib.figure.Figure at 0x1143ebda0>"
      ]
     },
     "metadata": {},
     "output_type": "display_data"
    }
   ],
   "source": [
    "plt.scatter(y_test, y_pred, alpha=0.1)\n",
    "plt.xlabel('True Values')\n",
    "plt.ylabel('Predictions (Linear Regression)')"
   ]
  },
  {
   "cell_type": "code",
   "execution_count": 19,
   "metadata": {},
   "outputs": [
    {
     "name": "stdout",
     "output_type": "stream",
     "text": [
      "Score: 0.2699255311608597\n"
     ]
    }
   ],
   "source": [
    "print ('Score:', lr.score(X_test, y_test))"
   ]
  },
  {
   "cell_type": "code",
   "execution_count": 27,
   "metadata": {},
   "outputs": [
    {
     "data": {
      "text/plain": [
       "(12123, 2)"
      ]
     },
     "execution_count": 27,
     "metadata": {},
     "output_type": "execute_result"
    }
   ],
   "source": [
    "data_result.shape"
   ]
  },
  {
   "cell_type": "code",
   "execution_count": 28,
   "metadata": {},
   "outputs": [
    {
     "data": {
      "text/plain": [
       "array([1994., 1995., 1996., 1997., 1998., 1999., 2000., 2001., 2002.,\n",
       "       2003., 2004., 2005., 2006., 2007., 2008., 2009., 2010., 2011.,\n",
       "       2012., 2013., 2014., 2015., 2016., 2017.])"
      ]
     },
     "execution_count": 28,
     "metadata": {},
     "output_type": "execute_result"
    }
   ],
   "source": [
    "data_cali_high['year'].unique()"
   ]
  },
  {
   "cell_type": "markdown",
   "metadata": {},
   "source": [
    "Cross Validation Model. \n",
    "And here are the steps for the Cross-Validation: \n",
    "1. we reserve a sample data\n",
    "2. train the model using the remaining of the datasets \n",
    "3. use the reserve sample of the test(validation) dataset. If our model delivers a positive result on the validation data, then we could go ahead with the current model. "
   ]
  },
  {
   "cell_type": "code",
   "execution_count": 29,
   "metadata": {},
   "outputs": [
    {
     "name": "stdout",
     "output_type": "stream",
     "text": [
      "Cross-validated scores: [-0.2992258   0.17029796  0.18254877 -0.0667545   0.10899391  0.23793668\n",
      " -0.19203792 -0.09397357  0.11008456  0.1195139 ]\n"
     ]
    }
   ],
   "source": [
    "from sklearn.cross_validation import cross_val_score, cross_val_predict\n",
    "from sklearn import metrics\n",
    "\n",
    "scores = cross_val_score(lr, X, y, cv=10)\n",
    "print('Cross-validated scores:', scores)"
   ]
  },
  {
   "cell_type": "code",
   "execution_count": 34,
   "metadata": {},
   "outputs": [
    {
     "data": {
      "text/plain": [
       "Text(0,0.5,'Predictions (10-fold cross-validation)')"
      ]
     },
     "execution_count": 34,
     "metadata": {},
     "output_type": "execute_result"
    },
    {
     "data": {
      "image/png": "[encoded data removed]",
      "text/plain": [
       "<matplotlib.figure.Figure at 0x1152e1ba8>"
      ]
     },
     "metadata": {},
     "output_type": "display_data"
    }
   ],
   "source": [
    "y_cross_pred = cross_val_predict(lr, X, y, cv=10)\n",
    "plt.scatter(y, y_cross_pred, alpha=0.1)\n",
    "plt.xlabel('True Values')\n",
    "plt.ylabel('Predictions (10-fold cross-validation)')"
   ]
  },
  {
   "cell_type": "code",
   "execution_count": 35,
   "metadata": {},
   "outputs": [
    {
     "name": "stdout",
     "output_type": "stream",
     "text": [
      "Cross-Predicted Accuracy: 0.2278907013457191\n"
     ]
    }
   ],
   "source": [
    "cross_accuracy = metrics.r2_score(y, y_cross_pred)\n",
    "print('Cross-Predicted Accuracy:', cross_accuracy)"
   ]
  },
  {
   "cell_type": "code",
   "execution_count": null,
   "metadata": {},
   "outputs": [],
   "source": []
  }
 ],
 "metadata": {
  "kernelspec": {
   "display_name": "Python 3",
   "language": "python",
   "name": "python3"
  },
  "language_info": {
   "codemirror_mode": {
    "name": "ipython",
    "version": 3
   },
   "file_extension": ".py",
   "mimetype": "text/x-python",
   "name": "python",
   "nbconvert_exporter": "python",
   "pygments_lexer": "ipython3",
   "version": "3.6.4"
  }
 },
 "nbformat": 4,
 "nbformat_minor": 2
}
