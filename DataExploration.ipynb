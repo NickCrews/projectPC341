{
 "cells": [
  {
   "cell_type": "markdown",
   "metadata": {},
   "source": [
    "# Predicting yield at University of California schools\n",
    "\n",
    "In our project, we wanted to work with admission data from undergraduate institutions to learn more about the admission process in a more scientific context.\n",
    "\n",
    "**Our main modelling goal for this project will be to determine the yield at an undergraduate school given information about the admitted class.** We believe it is a very interesting and practical question. Every year, during the admission season, colleges have to select students for the incoming freshmen year, but do not know how many of their offers will be accepted. If too few students accept their offers, the freshmen class will be under-enrolled, and school's resources will not be fully used. However, if too many students are admitted, the school will need to spend more resources to accommodate the unusually high number of students. \n",
    "\n",
    "Unfortunately, **admission data is legally protected, and only highly anonymized datasets are publicly available.** For this project, we decided to use the data from the University of California infocenter. The particular datasets we were interested in can be found here: https://www.universityofcalifornia.edu/infocenter/admissions-source-school. The data contains information about:\n",
    "\n",
    " - The number of applying, admitted and accepted students from each high school\n",
    " - The average GPA of applying, admitted and accepted students at each high school\n",
    " - Demographic data (students' race/ethnicity)\n",
    " - Locations of the high schools\n",
    " \n",
    "The data is sorted by year and University of California campus.\n",
    "\n",
    "We believe that the predictive power of these datasets might not be enough to accurately predict the yield (it only gives us access to very basic meta-information). Therefore, if the evaluations of our models show poor results, we are planning to use demographic information about the surveyed high schools/counties. To do that, we will most likely use the https://data.ca.gov/ repository."
   ]
  },
  {
   "cell_type": "markdown",
   "metadata": {},
   "source": [
    "## First look at our data\n",
    "\n",
    "Our data is split into two datasets. The first one (which we will call `gpas` in the later parts of this notebook) contains mean GPA information by:\n",
    "\n",
    " - University of California campus\n",
    " - High School\n",
    " - Year\n",
    " - Category (applied, admitted, enrolled)\n",
    " \n",
    "Whereas the second set (which we will call `counts`) contains the number of students in each of the categories *(applied, admitted, enrolled)*. The data is also grouped by:\n",
    "\n",
    " - University of California campus\n",
    " - High School\n",
    " - Year"
   ]
  },
  {
   "cell_type": "code",
   "execution_count": 16,
   "metadata": {},
   "outputs": [],
   "source": [
    "import pandas as pd\n",
    "%matplotlib inline\n",
    "import pylab as plt\n",
    "import numpy as np\n",
    "import scipy as sc\n",
    "import scipy.stats"
   ]
  },
  {
   "cell_type": "code",
   "execution_count": 17,
   "metadata": {},
   "outputs": [],
   "source": [
    "gpas = pd.read_csv('data/FR_GPA_by_Inst_data_converted.csv')\n",
    "counts = pd.read_csv('data/HS_by_Year_data_converted.csv')"
   ]
  },
  {
   "cell_type": "markdown",
   "metadata": {},
   "source": [
    "After we have loaded our data, we will display the first few rows in each dataset."
   ]
  },
  {
   "cell_type": "code",
   "execution_count": 20,
   "metadata": {},
   "outputs": [
    {
     "data": {
      "text/html": [
       "<div>\n",
       "<style scoped>\n",
       "    .dataframe tbody tr th:only-of-type {\n",
       "        vertical-align: middle;\n",
       "    }\n",
       "\n",
       "    .dataframe tbody tr th {\n",
       "        vertical-align: top;\n",
       "    }\n",
       "\n",
       "    .dataframe thead th {\n",
       "        text-align: right;\n",
       "    }\n",
       "</style>\n",
       "<table border=\"1\" class=\"dataframe\">\n",
       "  <thead>\n",
       "    <tr style=\"text-align: right;\">\n",
       "      <th></th>\n",
       "      <th>Calculation1</th>\n",
       "      <th>Campus</th>\n",
       "      <th>City</th>\n",
       "      <th>County</th>\n",
       "      <th>Fall Term</th>\n",
       "      <th>Measure Names</th>\n",
       "      <th>School</th>\n",
       "      <th>Measure Values</th>\n",
       "    </tr>\n",
       "  </thead>\n",
       "  <tbody>\n",
       "    <tr>\n",
       "      <th>0</th>\n",
       "      <td>21ST CENTURY EXPERIMENTAL SCH694223</td>\n",
       "      <td>Santa Cruz</td>\n",
       "      <td>n/a</td>\n",
       "      <td>Not Applicable</td>\n",
       "      <td>2017</td>\n",
       "      <td>Enrl GPA</td>\n",
       "      <td>21ST CENTURY EXPERIMENTAL SCH</td>\n",
       "      <td>NaN</td>\n",
       "    </tr>\n",
       "    <tr>\n",
       "      <th>1</th>\n",
       "      <td>21ST CENTURY EXPERIMENTAL SCH694223</td>\n",
       "      <td>Santa Barbara</td>\n",
       "      <td>n/a</td>\n",
       "      <td>Not Applicable</td>\n",
       "      <td>2017</td>\n",
       "      <td>Enrl GPA</td>\n",
       "      <td>21ST CENTURY EXPERIMENTAL SCH</td>\n",
       "      <td>NaN</td>\n",
       "    </tr>\n",
       "    <tr>\n",
       "      <th>2</th>\n",
       "      <td>21ST CENTURY EXPERIMENTAL SCH694223</td>\n",
       "      <td>San Diego</td>\n",
       "      <td>n/a</td>\n",
       "      <td>Not Applicable</td>\n",
       "      <td>2017</td>\n",
       "      <td>Enrl GPA</td>\n",
       "      <td>21ST CENTURY EXPERIMENTAL SCH</td>\n",
       "      <td>NaN</td>\n",
       "    </tr>\n",
       "    <tr>\n",
       "      <th>3</th>\n",
       "      <td>21ST CENTURY EXPERIMENTAL SCH694223</td>\n",
       "      <td>Los Angeles</td>\n",
       "      <td>n/a</td>\n",
       "      <td>Not Applicable</td>\n",
       "      <td>2017</td>\n",
       "      <td>Enrl GPA</td>\n",
       "      <td>21ST CENTURY EXPERIMENTAL SCH</td>\n",
       "      <td>NaN</td>\n",
       "    </tr>\n",
       "    <tr>\n",
       "      <th>4</th>\n",
       "      <td>21ST CENTURY EXPERIMENTAL SCH694223</td>\n",
       "      <td>Irvine</td>\n",
       "      <td>n/a</td>\n",
       "      <td>Not Applicable</td>\n",
       "      <td>2017</td>\n",
       "      <td>Enrl GPA</td>\n",
       "      <td>21ST CENTURY EXPERIMENTAL SCH</td>\n",
       "      <td>NaN</td>\n",
       "    </tr>\n",
       "    <tr>\n",
       "      <th>5</th>\n",
       "      <td>21ST CENTURY EXPERIMENTAL SCH694223</td>\n",
       "      <td>Davis</td>\n",
       "      <td>n/a</td>\n",
       "      <td>Not Applicable</td>\n",
       "      <td>2017</td>\n",
       "      <td>Enrl GPA</td>\n",
       "      <td>21ST CENTURY EXPERIMENTAL SCH</td>\n",
       "      <td>NaN</td>\n",
       "    </tr>\n",
       "    <tr>\n",
       "      <th>6</th>\n",
       "      <td>21ST CENTURY EXPERIMENTAL SCH694223</td>\n",
       "      <td>Berkeley</td>\n",
       "      <td>n/a</td>\n",
       "      <td>Not Applicable</td>\n",
       "      <td>2017</td>\n",
       "      <td>Enrl GPA</td>\n",
       "      <td>21ST CENTURY EXPERIMENTAL SCH</td>\n",
       "      <td>NaN</td>\n",
       "    </tr>\n",
       "    <tr>\n",
       "      <th>7</th>\n",
       "      <td>21ST CENTURY EXPERIMENTAL SCH694223</td>\n",
       "      <td>Universitywide</td>\n",
       "      <td>n/a</td>\n",
       "      <td>Not Applicable</td>\n",
       "      <td>2017</td>\n",
       "      <td>Enrl GPA</td>\n",
       "      <td>21ST CENTURY EXPERIMENTAL SCH</td>\n",
       "      <td>3.986667</td>\n",
       "    </tr>\n",
       "    <tr>\n",
       "      <th>8</th>\n",
       "      <td>21ST CENTURY EXPERIMENTAL SCH694223</td>\n",
       "      <td>Santa Cruz</td>\n",
       "      <td>n/a</td>\n",
       "      <td>Not Applicable</td>\n",
       "      <td>2017</td>\n",
       "      <td>Adm GPA</td>\n",
       "      <td>21ST CENTURY EXPERIMENTAL SCH</td>\n",
       "      <td>NaN</td>\n",
       "    </tr>\n",
       "    <tr>\n",
       "      <th>9</th>\n",
       "      <td>21ST CENTURY EXPERIMENTAL SCH694223</td>\n",
       "      <td>Santa Barbara</td>\n",
       "      <td>n/a</td>\n",
       "      <td>Not Applicable</td>\n",
       "      <td>2017</td>\n",
       "      <td>Adm GPA</td>\n",
       "      <td>21ST CENTURY EXPERIMENTAL SCH</td>\n",
       "      <td>3.999091</td>\n",
       "    </tr>\n",
       "    <tr>\n",
       "      <th>10</th>\n",
       "      <td>21ST CENTURY EXPERIMENTAL SCH694223</td>\n",
       "      <td>San Diego</td>\n",
       "      <td>n/a</td>\n",
       "      <td>Not Applicable</td>\n",
       "      <td>2017</td>\n",
       "      <td>Adm GPA</td>\n",
       "      <td>21ST CENTURY EXPERIMENTAL SCH</td>\n",
       "      <td>NaN</td>\n",
       "    </tr>\n",
       "    <tr>\n",
       "      <th>11</th>\n",
       "      <td>21ST CENTURY EXPERIMENTAL SCH694223</td>\n",
       "      <td>Los Angeles</td>\n",
       "      <td>n/a</td>\n",
       "      <td>Not Applicable</td>\n",
       "      <td>2017</td>\n",
       "      <td>Adm GPA</td>\n",
       "      <td>21ST CENTURY EXPERIMENTAL SCH</td>\n",
       "      <td>NaN</td>\n",
       "    </tr>\n",
       "  </tbody>\n",
       "</table>\n",
       "</div>"
      ],
      "text/plain": [
       "                           Calculation1          Campus  City          County  \\\n",
       "0   21ST CENTURY EXPERIMENTAL SCH694223      Santa Cruz  n/a   Not Applicable   \n",
       "1   21ST CENTURY EXPERIMENTAL SCH694223   Santa Barbara  n/a   Not Applicable   \n",
       "2   21ST CENTURY EXPERIMENTAL SCH694223       San Diego  n/a   Not Applicable   \n",
       "3   21ST CENTURY EXPERIMENTAL SCH694223     Los Angeles  n/a   Not Applicable   \n",
       "4   21ST CENTURY EXPERIMENTAL SCH694223          Irvine  n/a   Not Applicable   \n",
       "5   21ST CENTURY EXPERIMENTAL SCH694223           Davis  n/a   Not Applicable   \n",
       "6   21ST CENTURY EXPERIMENTAL SCH694223        Berkeley  n/a   Not Applicable   \n",
       "7   21ST CENTURY EXPERIMENTAL SCH694223  Universitywide  n/a   Not Applicable   \n",
       "8   21ST CENTURY EXPERIMENTAL SCH694223      Santa Cruz  n/a   Not Applicable   \n",
       "9   21ST CENTURY EXPERIMENTAL SCH694223   Santa Barbara  n/a   Not Applicable   \n",
       "10  21ST CENTURY EXPERIMENTAL SCH694223       San Diego  n/a   Not Applicable   \n",
       "11  21ST CENTURY EXPERIMENTAL SCH694223     Los Angeles  n/a   Not Applicable   \n",
       "\n",
       "    Fall Term Measure Names                         School  Measure Values  \n",
       "0        2017      Enrl GPA  21ST CENTURY EXPERIMENTAL SCH             NaN  \n",
       "1        2017      Enrl GPA  21ST CENTURY EXPERIMENTAL SCH             NaN  \n",
       "2        2017      Enrl GPA  21ST CENTURY EXPERIMENTAL SCH             NaN  \n",
       "3        2017      Enrl GPA  21ST CENTURY EXPERIMENTAL SCH             NaN  \n",
       "4        2017      Enrl GPA  21ST CENTURY EXPERIMENTAL SCH             NaN  \n",
       "5        2017      Enrl GPA  21ST CENTURY EXPERIMENTAL SCH             NaN  \n",
       "6        2017      Enrl GPA  21ST CENTURY EXPERIMENTAL SCH             NaN  \n",
       "7        2017      Enrl GPA  21ST CENTURY EXPERIMENTAL SCH        3.986667  \n",
       "8        2017       Adm GPA  21ST CENTURY EXPERIMENTAL SCH             NaN  \n",
       "9        2017       Adm GPA  21ST CENTURY EXPERIMENTAL SCH        3.999091  \n",
       "10       2017       Adm GPA  21ST CENTURY EXPERIMENTAL SCH             NaN  \n",
       "11       2017       Adm GPA  21ST CENTURY EXPERIMENTAL SCH             NaN  "
      ]
     },
     "execution_count": 20,
     "metadata": {},
     "output_type": "execute_result"
    }
   ],
   "source": [
    "gpas.head(12)"
   ]
  },
  {
   "cell_type": "code",
   "execution_count": 22,
   "metadata": {},
   "outputs": [
    {
     "data": {
      "text/html": [
       "<div>\n",
       "<style scoped>\n",
       "    .dataframe tbody tr th:only-of-type {\n",
       "        vertical-align: middle;\n",
       "    }\n",
       "\n",
       "    .dataframe tbody tr th {\n",
       "        vertical-align: top;\n",
       "    }\n",
       "\n",
       "    .dataframe thead th {\n",
       "        text-align: right;\n",
       "    }\n",
       "</style>\n",
       "<table border=\"1\" class=\"dataframe\">\n",
       "  <thead>\n",
       "    <tr style=\"text-align: right;\">\n",
       "      <th></th>\n",
       "      <th>Calculation1</th>\n",
       "      <th>Campus</th>\n",
       "      <th>City</th>\n",
       "      <th>County/State/ Territory</th>\n",
       "      <th>Fall Term</th>\n",
       "      <th>Measure Names</th>\n",
       "      <th>Uad Uc Ethn 6 Cat</th>\n",
       "      <th>Measure Values</th>\n",
       "    </tr>\n",
       "  </thead>\n",
       "  <tbody>\n",
       "    <tr>\n",
       "      <th>0</th>\n",
       "      <td>21ST CENTURY EXPERIMENTAL SCH694223</td>\n",
       "      <td>Universitywide</td>\n",
       "      <td>NaN</td>\n",
       "      <td>CHINA, PEOPLES REPUBLIC</td>\n",
       "      <td>2017</td>\n",
       "      <td>enr</td>\n",
       "      <td>All</td>\n",
       "      <td>12.0</td>\n",
       "    </tr>\n",
       "    <tr>\n",
       "      <th>1</th>\n",
       "      <td>21ST CENTURY EXPERIMENTAL SCH694223</td>\n",
       "      <td>Universitywide</td>\n",
       "      <td>NaN</td>\n",
       "      <td>CHINA, PEOPLES REPUBLIC</td>\n",
       "      <td>2017</td>\n",
       "      <td>adm</td>\n",
       "      <td>All</td>\n",
       "      <td>30.0</td>\n",
       "    </tr>\n",
       "    <tr>\n",
       "      <th>2</th>\n",
       "      <td>21ST CENTURY EXPERIMENTAL SCH694223</td>\n",
       "      <td>Universitywide</td>\n",
       "      <td>NaN</td>\n",
       "      <td>CHINA, PEOPLES REPUBLIC</td>\n",
       "      <td>2017</td>\n",
       "      <td>app</td>\n",
       "      <td>All</td>\n",
       "      <td>43.0</td>\n",
       "    </tr>\n",
       "    <tr>\n",
       "      <th>3</th>\n",
       "      <td>21ST CENTURY EXPERIMENTAL SCH694223</td>\n",
       "      <td>Universitywide</td>\n",
       "      <td>NaN</td>\n",
       "      <td>CHINA, PEOPLES REPUBLIC</td>\n",
       "      <td>2016</td>\n",
       "      <td>enr</td>\n",
       "      <td>Inter- national</td>\n",
       "      <td>5.0</td>\n",
       "    </tr>\n",
       "    <tr>\n",
       "      <th>4</th>\n",
       "      <td>21ST CENTURY EXPERIMENTAL SCH694223</td>\n",
       "      <td>Universitywide</td>\n",
       "      <td>NaN</td>\n",
       "      <td>CHINA, PEOPLES REPUBLIC</td>\n",
       "      <td>2016</td>\n",
       "      <td>adm</td>\n",
       "      <td>Inter- national</td>\n",
       "      <td>12.0</td>\n",
       "    </tr>\n",
       "    <tr>\n",
       "      <th>5</th>\n",
       "      <td>21ST CENTURY EXPERIMENTAL SCH694223</td>\n",
       "      <td>Universitywide</td>\n",
       "      <td>NaN</td>\n",
       "      <td>CHINA, PEOPLES REPUBLIC</td>\n",
       "      <td>2016</td>\n",
       "      <td>app</td>\n",
       "      <td>Inter- national</td>\n",
       "      <td>18.0</td>\n",
       "    </tr>\n",
       "  </tbody>\n",
       "</table>\n",
       "</div>"
      ],
      "text/plain": [
       "                          Calculation1          Campus City  \\\n",
       "0  21ST CENTURY EXPERIMENTAL SCH694223  Universitywide  NaN   \n",
       "1  21ST CENTURY EXPERIMENTAL SCH694223  Universitywide  NaN   \n",
       "2  21ST CENTURY EXPERIMENTAL SCH694223  Universitywide  NaN   \n",
       "3  21ST CENTURY EXPERIMENTAL SCH694223  Universitywide  NaN   \n",
       "4  21ST CENTURY EXPERIMENTAL SCH694223  Universitywide  NaN   \n",
       "5  21ST CENTURY EXPERIMENTAL SCH694223  Universitywide  NaN   \n",
       "\n",
       "   County/State/ Territory  Fall Term Measure Names Uad Uc Ethn 6 Cat  \\\n",
       "0  CHINA, PEOPLES REPUBLIC       2017           enr               All   \n",
       "1  CHINA, PEOPLES REPUBLIC       2017           adm               All   \n",
       "2  CHINA, PEOPLES REPUBLIC       2017           app               All   \n",
       "3  CHINA, PEOPLES REPUBLIC       2016           enr   Inter- national   \n",
       "4  CHINA, PEOPLES REPUBLIC       2016           adm   Inter- national   \n",
       "5  CHINA, PEOPLES REPUBLIC       2016           app   Inter- national   \n",
       "\n",
       "   Measure Values  \n",
       "0            12.0  \n",
       "1            30.0  \n",
       "2            43.0  \n",
       "3             5.0  \n",
       "4            12.0  \n",
       "5            18.0  "
      ]
     },
     "execution_count": 22,
     "metadata": {},
     "output_type": "execute_result"
    }
   ],
   "source": [
    "counts.head(6)"
   ]
  },
  {
   "cell_type": "markdown",
   "metadata": {},
   "source": [
    "## About the structure of the data\n",
    "\n",
    "Unfortunately, the datasets were given to us in a fairly uncomfortable format. Each of the rows specifies:\n",
    " - Name of the high school\n",
    " - City of the high school\n",
    " - County/State/Teritory of the high school\n",
    " - University of California campus\n",
    " - Year.\n",
    " \n",
    "However, instead of specifying the numerical data in designated columns, the datasets use the *measure name/measure value* approach. That means, that **only one numerical value is given per row.** Instead of putting multiple measurements per each row, the datasets' designers decided to create multiple copies of each row with one measurement per copy. The `Measure Names` column is used to indicate the type of the measurement in the row. The `Measure Values` column specifies the actual value of the measurement.\n",
    "\n",
    "For example, a row of type:\n",
    "\n",
    "| campus_name | school_name | avg_enrolled_gpa | avg_accepted_gpa | enrolled_student_count | accepted_student_count |\n",
    "|-------------|-------------|------------------|------------------|------------------------|------------------------|\n",
    "| Campus A    | School B    | 2.0              | 3.0              | 50                     | 80                     |\n",
    "\n",
    "Would be converted to multiple rows like:\n",
    "\n",
    "| campus_name | school_name | measurement name       | measurement value |\n",
    "|-------------|-------------|------------------------|-------------------|\n",
    "| Campus A    | School B    | avg_enrolled_gpa       | 2.0               |\n",
    "| Campus A    | School B    | avg_accepted_gpa       | 3.0               |\n",
    "| Campus A    | School B    | enrolled_student_count | 50                |\n",
    "| Campus A    | School B    | accepted_student_count | 80                |\n",
    "\n",
    "\n",
    "Moreover, these rows have been split to two separate files, which further complicates working with the data. We are expecting, that we will need to put significant effort into the data cleaning part of the project.\n",
    " "
   ]
  },
  {
   "cell_type": "markdown",
   "metadata": {},
   "source": [
    "## Data exploration\n",
    "\n",
    "In order to better understand the data we will be working with, we decided to perform a few data exploration tasks."
   ]
  },
  {
   "cell_type": "markdown",
   "metadata": {},
   "source": [
    "### Ratio of NaN fields\n",
    "\n",
    "One of the concerning properties of our datasets was the large number of `NaN` fields. In order to anonymize the data, the Unviersity of California decided to remove information about GPAs and student counts for schools with less than 3 student datapoints.\n",
    "\n",
    "In this exercise, we dicided to find out the ratio of `NaN` fields to actual fields."
   ]
  },
  {
   "cell_type": "code",
   "execution_count": 31,
   "metadata": {},
   "outputs": [
    {
     "name": "stdout",
     "output_type": "stream",
     "text": [
      "Number of rows in the GPA table:  888066\n",
      "Number of valid GPA values:  570305\n",
      "Ratio of valid GPA values to all values:  0.6421876301986564\n"
     ]
    }
   ],
   "source": [
    "gpas_row_count = len(gpas)\n",
    "gpas_not_nan_count = gpas[~gpas['Measure Values'].isnull()]['Measure Values'].count()\n",
    "gpas_nan_ratio = gpas_not_nan_count/gpas_row_count\n",
    "\n",
    "print('Number of rows in the GPA table: ', gpas_row_count)\n",
    "print('Number of valid GPA values: ', gpas_not_nan_count)\n",
    "print('Ratio of valid GPA values to all values: ', gpas_nan_ratio)"
   ]
  },
  {
   "cell_type": "markdown",
   "metadata": {},
   "source": [
    "Next, we repeat the same process for the `student count` data:"
   ]
  },
  {
   "cell_type": "code",
   "execution_count": 32,
   "metadata": {},
   "outputs": [
    {
     "name": "stdout",
     "output_type": "stream",
     "text": [
      "Number of rows in the student count table:  1048575\n",
      "Number of valid student count values:  737957\n",
      "Ratio of valid student count values to all values:  0.7037713086808287\n"
     ]
    }
   ],
   "source": [
    "student_num_row_count = len(counts)\n",
    "student_num_not_nan_count = counts[~counts['Measure Values'].isnull()]['Measure Values'].count()\n",
    "student_num_nan_ratio = student_num_not_nan_count/student_num_row_count\n",
    "\n",
    "print('Number of rows in the student count table: ', student_num_row_count)\n",
    "print('Number of valid student count values: ', student_num_not_nan_count)\n",
    "print('Ratio of valid student count values to all values: ', student_num_nan_ratio)"
   ]
  },
  {
   "cell_type": "markdown",
   "metadata": {},
   "source": [
    "#### Results\n",
    "\n",
    "As we can see, a large number of rows in our dataset **do not contain valid data.** We will have to properly deal with this problem while working on our data cleaning component."
   ]
  },
  {
   "cell_type": "markdown",
   "metadata": {},
   "source": [
    "### High school applicant GPAs\n",
    "\n",
    "We thought it would be interesting to learn which schools in our datasets sent the most qualified candidates as measured by student GPA. In order to find that information, we decided to sort the schools by their mean applicant GPA.\n",
    "\n",
    "First we will show the best schools by applicant GPA:"
   ]
  },
  {
   "cell_type": "code",
   "execution_count": 45,
   "metadata": {},
   "outputs": [
    {
     "data": {
      "text/plain": [
       "Calculation1\n",
       "KINGS PARK HIGH SCHOOL332695           4.360000\n",
       "MERROL HYDE MAGNET SCHOOL430893        4.340000\n",
       "HUDSON'S BAY HIGH SCHOOL481475         4.286667\n",
       "WILLIAM J BRENNAN HIGH SCHOOL446239    4.270000\n",
       "OCONEE COUNTY HIGH SCHOOL113190        4.270000\n",
       "VALLEY STREAM SOUTH HS335712           4.268000\n",
       "JOHN S DAVIDSON FINE ARTS SCH110294    4.258333\n",
       "KINGS HIGH SCHOOL362800                4.258000\n",
       "JAMES S RICKARDS HIGH SCHOOL101663     4.258000\n",
       "FAYETTE COUNTY HIGH SCHOOL111275       4.250000\n",
       "Name: Measure Values, dtype: float64"
      ]
     },
     "execution_count": 45,
     "metadata": {},
     "output_type": "execute_result"
    }
   ],
   "source": [
    "school_gpas = gpas[gpas['Measure Names'] == 'App GPA'].\\\n",
    "              groupby('Calculation1')['Measure Values'].\\\n",
    "              mean()\n",
    "\n",
    "school_gpas.sort_values(ascending=[False])[0:10]"
   ]
  },
  {
   "cell_type": "markdown",
   "metadata": {},
   "source": [
    "Next we will look at the schools with lowest GPAs:"
   ]
  },
  {
   "cell_type": "code",
   "execution_count": 46,
   "metadata": {},
   "outputs": [
    {
     "data": {
      "text/plain": [
       "Calculation1\n",
       "MARYKNOLL CONVENT SCHOOL670580         2.627000\n",
       "SAINT COLUMBAS HIGH SCHOOL671880       2.658000\n",
       "DUBAI MODERN EDUCATION SCHOOL697053    2.664000\n",
       "AMERICAN ACADEMY FOR GIRLS683085       2.674000\n",
       "JAI HIND COLLEGE671659                 2.734132\n",
       "LOS ANGELES BIG PICTURE HS051739       2.752580\n",
       "GOOD HOPE SCHOOL670500                 2.792000\n",
       "NORTHWEST ACADEMY290004                2.822000\n",
       "FROEBELS INTERNATIONAL SCHOOL690259    2.836000\n",
       "BRITISH COLUMBIA ACADEMY694214         2.854000\n",
       "Name: Measure Values, dtype: float64"
      ]
     },
     "execution_count": 46,
     "metadata": {},
     "output_type": "execute_result"
    }
   ],
   "source": [
    "school_gpas.sort_values(ascending=[True])[0:10]"
   ]
  },
  {
   "cell_type": "markdown",
   "metadata": {},
   "source": [
    "Interestingly, **all of these schools were located in California**. This brings us to another interesting question about our dataset composition."
   ]
  },
  {
   "cell_type": "markdown",
   "metadata": {},
   "source": [
    "### High school location breakdown\n",
    "\n",
    "In our previous excercise we noticed that the top 10 \"best\" schools and top 10 \"worst\" schools in our dataset were located in California. In this section, we would like to learn how many of the considered schools were located:\n",
    " - in California\n",
    " - in the US but outside California\n",
    " - outside of the US\n",
    " \n",
    "In order to perform this task, we notice the following conjecture about the format of the `County/State/Territory` column in the `counts` dataset:\n",
    "\n",
    " - If the school is located in California, the column contains the county name\n",
    " - If the school is located in the US, the column contains the name of the state\n",
    " - If the school is located outside of the US, the column contains the name of the country (in all caps)\n",
    "\n",
    "First we will validate our data:"
   ]
  },
  {
   "cell_type": "code",
   "execution_count": 66,
   "metadata": {},
   "outputs": [],
   "source": [
    "# We extracted the list of California counties, and US teritories from the list of unique locations\n",
    "ca_counties = ['Alameda', 'Alpine', 'Amador', 'Butte', 'Calaveras', 'Colusa', 'Contra Costa', 'Del Norte', 'El Dorado', 'Fresno', 'Glenn', 'Humboldt', 'Imperial', 'Inyo', 'Kern', 'Kings', 'Lake', 'Lassen', 'Los Angeles', 'Madera', 'Marin', 'Mariposa', 'Mendocino', 'Merced', 'Modoc', 'Mono', 'Monterey', 'Napa', 'Nevada', 'Orange', 'Placer', 'Plumas', 'Riverside', 'Sacramento', 'San Benito', 'San Bernardino', 'San Diego', 'San Francisco', 'San Joaquin', 'San Luis Obispo', 'San Mateo', 'Santa Barbara', 'Santa Clara', 'Santa Cruz', 'Shasta', 'Sierra', 'Siskiyou', 'Solano', 'Sonoma', 'Stanislaus', 'Sutter', 'Tehama', 'Trinity', 'Tulare', 'Tuolumne', 'Ventura', 'Yolo', 'Yuba']\n",
    "us_states_and_territories = ['American Samoa', 'Northern Mariana Islands', 'U.S. Armed Forces –\\xa0Pacific', 'U.S. Armed Forces –\\xa0Europe', 'Puerto Rico', 'Guam', 'District of Columbia', 'Alabama', 'Alaska', 'Arizona', 'Arkansas', 'California', 'Colorado', 'Connecticut', 'Delaware', 'Florida', 'Georgia', 'Hawaii', 'Idaho', 'Illinois', 'Indiana', 'Iowa', 'Kansas', 'Kentucky', 'Louisiana', 'Maine', 'Maryland', 'Massachusetts', 'Michigan', 'Minnesota', 'Mississippi', 'Missouri', 'Montana', 'Nebraska', 'Nevada', 'New Hampshire', 'New Jersey', 'New Mexico', 'New York', 'North Carolina', 'North Dakota', 'Ohio', 'Oklahoma', 'Oregon', 'Pennsylvania', 'Rhode Island', 'South Carolina', 'South Dakota', 'Tennessee', 'Texas', 'Utah', 'Vermont', 'Virginia', 'Washington', 'West Virginia', 'Wisconsin', 'Wyoming']\n",
    "\n",
    "all_locations = list(counts['County/State/ Territory'].unique())\n",
    "country_names = [l for l in all_locations\n",
    "                 if l not in ca_counties and\n",
    "                    l not in us_states_and_territories and\n",
    "                    l is not np.nan]\n",
    "\n",
    "# Sanity check - our contry_names should be in all caps:\n",
    "for country_name in country_names:\n",
    "    assert(country_name == country_name.upper())\n"
   ]
  },
  {
   "cell_type": "markdown",
   "metadata": {},
   "source": [
    "Next we will perform the actual calculations:"
   ]
  },
  {
   "cell_type": "code",
   "execution_count": 80,
   "metadata": {},
   "outputs": [
    {
     "name": "stdout",
     "output_type": "stream",
     "text": [
      "Total number of schools:  3077\n",
      "Ratio of schools in california:  0.31036724081897954\n",
      "Ratio of schools in the US (but not CA):  0.512187195320117\n",
      "Ratio of foreign schools:  0.17679558011049723\n"
     ]
    }
   ],
   "source": [
    "total_schools = counts['Calculation1'].unique().size\n",
    "california_schools = counts[counts['County/State/ Territory'].isin(ca_counties)]\\\n",
    "                           ['Calculation1'].unique().size\n",
    "us_non_ca_schools  = counts[counts['County/State/ Territory'].isin(us_states_and_territories)]\\\n",
    "                           ['Calculation1'].unique().size\n",
    "foreign_schools    = counts[counts['County/State/ Territory'].isin(country_names)]\\\n",
    "                           ['Calculation1'].unique().size\n",
    "\n",
    "print('Total number of schools: ', total_schools)\n",
    "print('Ratio of schools in california: ', california_schools/total_schools)\n",
    "print('Ratio of schools in the US (but not CA): ', us_non_ca_schools/total_schools)\n",
    "print('Ratio of foreign schools: ', foreign_schools/total_schools)\n"
   ]
  },
  {
   "cell_type": "markdown",
   "metadata": {},
   "source": [
    "## Summary\n",
    "\n",
    "To summarize, we belive our data contains very interesting information that could be helpful to predict the student yield ratio. However, due to a peculiar format of the data, we will need to put a large amount of work into data cleanup, and preprocessing. We will move on to that task in our `preprocessing.ipynb` notebook."
   ]
  }
 ],
 "metadata": {
  "kernelspec": {
   "display_name": "Python 3",
   "language": "python",
   "name": "python3"
  },
  "language_info": {
   "codemirror_mode": {
    "name": "ipython",
    "version": 3
   },
   "file_extension": ".py",
   "mimetype": "text/x-python",
   "name": "python",
   "nbconvert_exporter": "python",
   "pygments_lexer": "ipython3",
   "version": "3.6.4"
  }
 },
 "nbformat": 4,
 "nbformat_minor": 2
}
